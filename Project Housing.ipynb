{
 "cells": [
  {
   "cell_type": "code",
   "execution_count": 2,
   "id": "f9b8977a",
   "metadata": {},
   "outputs": [],
   "source": [
    "import numpy as np\n",
    "import pandas as pd\n",
    "import matplotlib.pyplot as plt\n",
    "import seaborn as sns\n",
    "import os\n",
    "import warnings\n",
    "warnings.filterwarnings('ignore')"
   ]
  },
  {
   "cell_type": "markdown",
   "id": "de0b23d5",
   "metadata": {},
   "source": [
    "imported the necessary libraries"
   ]
  },
  {
   "cell_type": "code",
   "execution_count": 3,
   "id": "8814d841",
   "metadata": {},
   "outputs": [
    {
     "name": "stdout",
     "output_type": "stream",
     "text": [
      "C:\\Users\\Rahul\n"
     ]
    }
   ],
   "source": [
    "print(os.getcwd())\n",
    "os.chdir('E:\\Project\\Project-Housing--2---1-\\Project-Housing_splitted')"
   ]
  },
  {
   "cell_type": "markdown",
   "id": "1448cceb",
   "metadata": {},
   "source": [
    "changed the working directory"
   ]
  },
  {
   "cell_type": "code",
   "execution_count": 5,
   "id": "db0dde70",
   "metadata": {},
   "outputs": [],
   "source": [
    "train = pd.read_csv(\"train.csv\")"
   ]
  },
  {
   "cell_type": "code",
   "execution_count": 4,
   "id": "687f319b",
   "metadata": {},
   "outputs": [],
   "source": [
    "test = pd.read_csv(\"test.csv\")"
   ]
  },
  {
   "cell_type": "markdown",
   "id": "1b520a9f",
   "metadata": {},
   "source": [
    "imported the train and test data"
   ]
  },
  {
   "cell_type": "code",
   "execution_count": 4,
   "id": "b8396f9d",
   "metadata": {},
   "outputs": [
    {
     "data": {
      "text/html": [
       "<div>\n",
       "<style scoped>\n",
       "    .dataframe tbody tr th:only-of-type {\n",
       "        vertical-align: middle;\n",
       "    }\n",
       "\n",
       "    .dataframe tbody tr th {\n",
       "        vertical-align: top;\n",
       "    }\n",
       "\n",
       "    .dataframe thead th {\n",
       "        text-align: right;\n",
       "    }\n",
       "</style>\n",
       "<table border=\"1\" class=\"dataframe\">\n",
       "  <thead>\n",
       "    <tr style=\"text-align: right;\">\n",
       "      <th></th>\n",
       "      <th>Id</th>\n",
       "      <th>MSSubClass</th>\n",
       "      <th>MSZoning</th>\n",
       "      <th>LotFrontage</th>\n",
       "      <th>LotArea</th>\n",
       "      <th>Street</th>\n",
       "      <th>Alley</th>\n",
       "      <th>LotShape</th>\n",
       "      <th>LandContour</th>\n",
       "      <th>Utilities</th>\n",
       "      <th>...</th>\n",
       "      <th>PoolArea</th>\n",
       "      <th>PoolQC</th>\n",
       "      <th>Fence</th>\n",
       "      <th>MiscFeature</th>\n",
       "      <th>MiscVal</th>\n",
       "      <th>MoSold</th>\n",
       "      <th>YrSold</th>\n",
       "      <th>SaleType</th>\n",
       "      <th>SaleCondition</th>\n",
       "      <th>SalePrice</th>\n",
       "    </tr>\n",
       "  </thead>\n",
       "  <tbody>\n",
       "    <tr>\n",
       "      <th>0</th>\n",
       "      <td>127</td>\n",
       "      <td>120</td>\n",
       "      <td>RL</td>\n",
       "      <td>NaN</td>\n",
       "      <td>4928</td>\n",
       "      <td>Pave</td>\n",
       "      <td>NaN</td>\n",
       "      <td>IR1</td>\n",
       "      <td>Lvl</td>\n",
       "      <td>AllPub</td>\n",
       "      <td>...</td>\n",
       "      <td>0</td>\n",
       "      <td>NaN</td>\n",
       "      <td>NaN</td>\n",
       "      <td>NaN</td>\n",
       "      <td>0</td>\n",
       "      <td>2</td>\n",
       "      <td>2007</td>\n",
       "      <td>WD</td>\n",
       "      <td>Normal</td>\n",
       "      <td>128000</td>\n",
       "    </tr>\n",
       "    <tr>\n",
       "      <th>1</th>\n",
       "      <td>889</td>\n",
       "      <td>20</td>\n",
       "      <td>RL</td>\n",
       "      <td>95.0</td>\n",
       "      <td>15865</td>\n",
       "      <td>Pave</td>\n",
       "      <td>NaN</td>\n",
       "      <td>IR1</td>\n",
       "      <td>Lvl</td>\n",
       "      <td>AllPub</td>\n",
       "      <td>...</td>\n",
       "      <td>0</td>\n",
       "      <td>NaN</td>\n",
       "      <td>NaN</td>\n",
       "      <td>NaN</td>\n",
       "      <td>0</td>\n",
       "      <td>10</td>\n",
       "      <td>2007</td>\n",
       "      <td>WD</td>\n",
       "      <td>Normal</td>\n",
       "      <td>268000</td>\n",
       "    </tr>\n",
       "    <tr>\n",
       "      <th>2</th>\n",
       "      <td>793</td>\n",
       "      <td>60</td>\n",
       "      <td>RL</td>\n",
       "      <td>92.0</td>\n",
       "      <td>9920</td>\n",
       "      <td>Pave</td>\n",
       "      <td>NaN</td>\n",
       "      <td>IR1</td>\n",
       "      <td>Lvl</td>\n",
       "      <td>AllPub</td>\n",
       "      <td>...</td>\n",
       "      <td>0</td>\n",
       "      <td>NaN</td>\n",
       "      <td>NaN</td>\n",
       "      <td>NaN</td>\n",
       "      <td>0</td>\n",
       "      <td>6</td>\n",
       "      <td>2007</td>\n",
       "      <td>WD</td>\n",
       "      <td>Normal</td>\n",
       "      <td>269790</td>\n",
       "    </tr>\n",
       "    <tr>\n",
       "      <th>3</th>\n",
       "      <td>110</td>\n",
       "      <td>20</td>\n",
       "      <td>RL</td>\n",
       "      <td>105.0</td>\n",
       "      <td>11751</td>\n",
       "      <td>Pave</td>\n",
       "      <td>NaN</td>\n",
       "      <td>IR1</td>\n",
       "      <td>Lvl</td>\n",
       "      <td>AllPub</td>\n",
       "      <td>...</td>\n",
       "      <td>0</td>\n",
       "      <td>NaN</td>\n",
       "      <td>MnPrv</td>\n",
       "      <td>NaN</td>\n",
       "      <td>0</td>\n",
       "      <td>1</td>\n",
       "      <td>2010</td>\n",
       "      <td>COD</td>\n",
       "      <td>Normal</td>\n",
       "      <td>190000</td>\n",
       "    </tr>\n",
       "    <tr>\n",
       "      <th>4</th>\n",
       "      <td>422</td>\n",
       "      <td>20</td>\n",
       "      <td>RL</td>\n",
       "      <td>NaN</td>\n",
       "      <td>16635</td>\n",
       "      <td>Pave</td>\n",
       "      <td>NaN</td>\n",
       "      <td>IR1</td>\n",
       "      <td>Lvl</td>\n",
       "      <td>AllPub</td>\n",
       "      <td>...</td>\n",
       "      <td>0</td>\n",
       "      <td>NaN</td>\n",
       "      <td>NaN</td>\n",
       "      <td>NaN</td>\n",
       "      <td>0</td>\n",
       "      <td>6</td>\n",
       "      <td>2009</td>\n",
       "      <td>WD</td>\n",
       "      <td>Normal</td>\n",
       "      <td>215000</td>\n",
       "    </tr>\n",
       "  </tbody>\n",
       "</table>\n",
       "<p>5 rows × 81 columns</p>\n",
       "</div>"
      ],
      "text/plain": [
       "    Id  MSSubClass MSZoning  LotFrontage  LotArea Street Alley LotShape  \\\n",
       "0  127         120       RL          NaN     4928   Pave   NaN      IR1   \n",
       "1  889          20       RL         95.0    15865   Pave   NaN      IR1   \n",
       "2  793          60       RL         92.0     9920   Pave   NaN      IR1   \n",
       "3  110          20       RL        105.0    11751   Pave   NaN      IR1   \n",
       "4  422          20       RL          NaN    16635   Pave   NaN      IR1   \n",
       "\n",
       "  LandContour Utilities  ... PoolArea PoolQC  Fence MiscFeature MiscVal  \\\n",
       "0         Lvl    AllPub  ...        0    NaN    NaN         NaN       0   \n",
       "1         Lvl    AllPub  ...        0    NaN    NaN         NaN       0   \n",
       "2         Lvl    AllPub  ...        0    NaN    NaN         NaN       0   \n",
       "3         Lvl    AllPub  ...        0    NaN  MnPrv         NaN       0   \n",
       "4         Lvl    AllPub  ...        0    NaN    NaN         NaN       0   \n",
       "\n",
       "  MoSold YrSold  SaleType  SaleCondition  SalePrice  \n",
       "0      2   2007        WD         Normal     128000  \n",
       "1     10   2007        WD         Normal     268000  \n",
       "2      6   2007        WD         Normal     269790  \n",
       "3      1   2010       COD         Normal     190000  \n",
       "4      6   2009        WD         Normal     215000  \n",
       "\n",
       "[5 rows x 81 columns]"
      ]
     },
     "execution_count": 4,
     "metadata": {},
     "output_type": "execute_result"
    }
   ],
   "source": [
    "train.head()"
   ]
  },
  {
   "cell_type": "markdown",
   "id": "4286ed50",
   "metadata": {},
   "source": [
    "tried to print the first five rows of train data"
   ]
  },
  {
   "cell_type": "code",
   "execution_count": 6,
   "id": "d5acba89",
   "metadata": {},
   "outputs": [
    {
     "data": {
      "text/html": [
       "<div>\n",
       "<style scoped>\n",
       "    .dataframe tbody tr th:only-of-type {\n",
       "        vertical-align: middle;\n",
       "    }\n",
       "\n",
       "    .dataframe tbody tr th {\n",
       "        vertical-align: top;\n",
       "    }\n",
       "\n",
       "    .dataframe thead th {\n",
       "        text-align: right;\n",
       "    }\n",
       "</style>\n",
       "<table border=\"1\" class=\"dataframe\">\n",
       "  <thead>\n",
       "    <tr style=\"text-align: right;\">\n",
       "      <th></th>\n",
       "      <th>Id</th>\n",
       "      <th>MSSubClass</th>\n",
       "      <th>MSZoning</th>\n",
       "      <th>LotFrontage</th>\n",
       "      <th>LotArea</th>\n",
       "      <th>Street</th>\n",
       "      <th>Alley</th>\n",
       "      <th>LotShape</th>\n",
       "      <th>LandContour</th>\n",
       "      <th>Utilities</th>\n",
       "      <th>...</th>\n",
       "      <th>ScreenPorch</th>\n",
       "      <th>PoolArea</th>\n",
       "      <th>PoolQC</th>\n",
       "      <th>Fence</th>\n",
       "      <th>MiscFeature</th>\n",
       "      <th>MiscVal</th>\n",
       "      <th>MoSold</th>\n",
       "      <th>YrSold</th>\n",
       "      <th>SaleType</th>\n",
       "      <th>SaleCondition</th>\n",
       "    </tr>\n",
       "  </thead>\n",
       "  <tbody>\n",
       "    <tr>\n",
       "      <th>0</th>\n",
       "      <td>337</td>\n",
       "      <td>20</td>\n",
       "      <td>RL</td>\n",
       "      <td>86.0</td>\n",
       "      <td>14157</td>\n",
       "      <td>Pave</td>\n",
       "      <td>NaN</td>\n",
       "      <td>IR1</td>\n",
       "      <td>HLS</td>\n",
       "      <td>AllPub</td>\n",
       "      <td>...</td>\n",
       "      <td>0</td>\n",
       "      <td>0</td>\n",
       "      <td>NaN</td>\n",
       "      <td>NaN</td>\n",
       "      <td>NaN</td>\n",
       "      <td>0</td>\n",
       "      <td>7</td>\n",
       "      <td>2007</td>\n",
       "      <td>WD</td>\n",
       "      <td>Normal</td>\n",
       "    </tr>\n",
       "    <tr>\n",
       "      <th>1</th>\n",
       "      <td>1018</td>\n",
       "      <td>120</td>\n",
       "      <td>RL</td>\n",
       "      <td>NaN</td>\n",
       "      <td>5814</td>\n",
       "      <td>Pave</td>\n",
       "      <td>NaN</td>\n",
       "      <td>IR1</td>\n",
       "      <td>Lvl</td>\n",
       "      <td>AllPub</td>\n",
       "      <td>...</td>\n",
       "      <td>0</td>\n",
       "      <td>0</td>\n",
       "      <td>NaN</td>\n",
       "      <td>NaN</td>\n",
       "      <td>NaN</td>\n",
       "      <td>0</td>\n",
       "      <td>8</td>\n",
       "      <td>2009</td>\n",
       "      <td>COD</td>\n",
       "      <td>Abnorml</td>\n",
       "    </tr>\n",
       "    <tr>\n",
       "      <th>2</th>\n",
       "      <td>929</td>\n",
       "      <td>20</td>\n",
       "      <td>RL</td>\n",
       "      <td>NaN</td>\n",
       "      <td>11838</td>\n",
       "      <td>Pave</td>\n",
       "      <td>NaN</td>\n",
       "      <td>Reg</td>\n",
       "      <td>Lvl</td>\n",
       "      <td>AllPub</td>\n",
       "      <td>...</td>\n",
       "      <td>0</td>\n",
       "      <td>0</td>\n",
       "      <td>NaN</td>\n",
       "      <td>NaN</td>\n",
       "      <td>NaN</td>\n",
       "      <td>0</td>\n",
       "      <td>6</td>\n",
       "      <td>2009</td>\n",
       "      <td>WD</td>\n",
       "      <td>Normal</td>\n",
       "    </tr>\n",
       "    <tr>\n",
       "      <th>3</th>\n",
       "      <td>1148</td>\n",
       "      <td>70</td>\n",
       "      <td>RL</td>\n",
       "      <td>75.0</td>\n",
       "      <td>12000</td>\n",
       "      <td>Pave</td>\n",
       "      <td>NaN</td>\n",
       "      <td>Reg</td>\n",
       "      <td>Bnk</td>\n",
       "      <td>AllPub</td>\n",
       "      <td>...</td>\n",
       "      <td>0</td>\n",
       "      <td>0</td>\n",
       "      <td>NaN</td>\n",
       "      <td>NaN</td>\n",
       "      <td>NaN</td>\n",
       "      <td>0</td>\n",
       "      <td>7</td>\n",
       "      <td>2009</td>\n",
       "      <td>WD</td>\n",
       "      <td>Normal</td>\n",
       "    </tr>\n",
       "    <tr>\n",
       "      <th>4</th>\n",
       "      <td>1227</td>\n",
       "      <td>60</td>\n",
       "      <td>RL</td>\n",
       "      <td>86.0</td>\n",
       "      <td>14598</td>\n",
       "      <td>Pave</td>\n",
       "      <td>NaN</td>\n",
       "      <td>IR1</td>\n",
       "      <td>Lvl</td>\n",
       "      <td>AllPub</td>\n",
       "      <td>...</td>\n",
       "      <td>0</td>\n",
       "      <td>0</td>\n",
       "      <td>NaN</td>\n",
       "      <td>NaN</td>\n",
       "      <td>NaN</td>\n",
       "      <td>0</td>\n",
       "      <td>1</td>\n",
       "      <td>2008</td>\n",
       "      <td>WD</td>\n",
       "      <td>Normal</td>\n",
       "    </tr>\n",
       "  </tbody>\n",
       "</table>\n",
       "<p>5 rows × 80 columns</p>\n",
       "</div>"
      ],
      "text/plain": [
       "     Id  MSSubClass MSZoning  LotFrontage  LotArea Street Alley LotShape  \\\n",
       "0   337          20       RL         86.0    14157   Pave   NaN      IR1   \n",
       "1  1018         120       RL          NaN     5814   Pave   NaN      IR1   \n",
       "2   929          20       RL          NaN    11838   Pave   NaN      Reg   \n",
       "3  1148          70       RL         75.0    12000   Pave   NaN      Reg   \n",
       "4  1227          60       RL         86.0    14598   Pave   NaN      IR1   \n",
       "\n",
       "  LandContour Utilities  ... ScreenPorch PoolArea PoolQC Fence MiscFeature  \\\n",
       "0         HLS    AllPub  ...           0        0    NaN   NaN         NaN   \n",
       "1         Lvl    AllPub  ...           0        0    NaN   NaN         NaN   \n",
       "2         Lvl    AllPub  ...           0        0    NaN   NaN         NaN   \n",
       "3         Bnk    AllPub  ...           0        0    NaN   NaN         NaN   \n",
       "4         Lvl    AllPub  ...           0        0    NaN   NaN         NaN   \n",
       "\n",
       "  MiscVal MoSold  YrSold  SaleType  SaleCondition  \n",
       "0       0      7    2007        WD         Normal  \n",
       "1       0      8    2009       COD        Abnorml  \n",
       "2       0      6    2009        WD         Normal  \n",
       "3       0      7    2009        WD         Normal  \n",
       "4       0      1    2008        WD         Normal  \n",
       "\n",
       "[5 rows x 80 columns]"
      ]
     },
     "execution_count": 6,
     "metadata": {},
     "output_type": "execute_result"
    }
   ],
   "source": [
    "test.head()"
   ]
  },
  {
   "cell_type": "markdown",
   "id": "3b2e662c",
   "metadata": {},
   "source": [
    "tried to print first five rows of test data"
   ]
  },
  {
   "cell_type": "code",
   "execution_count": 6,
   "id": "e6427bec",
   "metadata": {},
   "outputs": [
    {
     "name": "stdout",
     "output_type": "stream",
     "text": [
      "<class 'pandas.core.frame.DataFrame'>\n",
      "RangeIndex: 1168 entries, 0 to 1167\n",
      "Data columns (total 81 columns):\n",
      " #   Column         Non-Null Count  Dtype  \n",
      "---  ------         --------------  -----  \n",
      " 0   Id             1168 non-null   int64  \n",
      " 1   MSSubClass     1168 non-null   int64  \n",
      " 2   MSZoning       1168 non-null   object \n",
      " 3   LotFrontage    954 non-null    float64\n",
      " 4   LotArea        1168 non-null   int64  \n",
      " 5   Street         1168 non-null   object \n",
      " 6   Alley          77 non-null     object \n",
      " 7   LotShape       1168 non-null   object \n",
      " 8   LandContour    1168 non-null   object \n",
      " 9   Utilities      1168 non-null   object \n",
      " 10  LotConfig      1168 non-null   object \n",
      " 11  LandSlope      1168 non-null   object \n",
      " 12  Neighborhood   1168 non-null   object \n",
      " 13  Condition1     1168 non-null   object \n",
      " 14  Condition2     1168 non-null   object \n",
      " 15  BldgType       1168 non-null   object \n",
      " 16  HouseStyle     1168 non-null   object \n",
      " 17  OverallQual    1168 non-null   int64  \n",
      " 18  OverallCond    1168 non-null   int64  \n",
      " 19  YearBuilt      1168 non-null   int64  \n",
      " 20  YearRemodAdd   1168 non-null   int64  \n",
      " 21  RoofStyle      1168 non-null   object \n",
      " 22  RoofMatl       1168 non-null   object \n",
      " 23  Exterior1st    1168 non-null   object \n",
      " 24  Exterior2nd    1168 non-null   object \n",
      " 25  MasVnrType     1161 non-null   object \n",
      " 26  MasVnrArea     1161 non-null   float64\n",
      " 27  ExterQual      1168 non-null   object \n",
      " 28  ExterCond      1168 non-null   object \n",
      " 29  Foundation     1168 non-null   object \n",
      " 30  BsmtQual       1138 non-null   object \n",
      " 31  BsmtCond       1138 non-null   object \n",
      " 32  BsmtExposure   1137 non-null   object \n",
      " 33  BsmtFinType1   1138 non-null   object \n",
      " 34  BsmtFinSF1     1168 non-null   int64  \n",
      " 35  BsmtFinType2   1137 non-null   object \n",
      " 36  BsmtFinSF2     1168 non-null   int64  \n",
      " 37  BsmtUnfSF      1168 non-null   int64  \n",
      " 38  TotalBsmtSF    1168 non-null   int64  \n",
      " 39  Heating        1168 non-null   object \n",
      " 40  HeatingQC      1168 non-null   object \n",
      " 41  CentralAir     1168 non-null   object \n",
      " 42  Electrical     1168 non-null   object \n",
      " 43  1stFlrSF       1168 non-null   int64  \n",
      " 44  2ndFlrSF       1168 non-null   int64  \n",
      " 45  LowQualFinSF   1168 non-null   int64  \n",
      " 46  GrLivArea      1168 non-null   int64  \n",
      " 47  BsmtFullBath   1168 non-null   int64  \n",
      " 48  BsmtHalfBath   1168 non-null   int64  \n",
      " 49  FullBath       1168 non-null   int64  \n",
      " 50  HalfBath       1168 non-null   int64  \n",
      " 51  BedroomAbvGr   1168 non-null   int64  \n",
      " 52  KitchenAbvGr   1168 non-null   int64  \n",
      " 53  KitchenQual    1168 non-null   object \n",
      " 54  TotRmsAbvGrd   1168 non-null   int64  \n",
      " 55  Functional     1168 non-null   object \n",
      " 56  Fireplaces     1168 non-null   int64  \n",
      " 57  FireplaceQu    617 non-null    object \n",
      " 58  GarageType     1104 non-null   object \n",
      " 59  GarageYrBlt    1104 non-null   float64\n",
      " 60  GarageFinish   1104 non-null   object \n",
      " 61  GarageCars     1168 non-null   int64  \n",
      " 62  GarageArea     1168 non-null   int64  \n",
      " 63  GarageQual     1104 non-null   object \n",
      " 64  GarageCond     1104 non-null   object \n",
      " 65  PavedDrive     1168 non-null   object \n",
      " 66  WoodDeckSF     1168 non-null   int64  \n",
      " 67  OpenPorchSF    1168 non-null   int64  \n",
      " 68  EnclosedPorch  1168 non-null   int64  \n",
      " 69  3SsnPorch      1168 non-null   int64  \n",
      " 70  ScreenPorch    1168 non-null   int64  \n",
      " 71  PoolArea       1168 non-null   int64  \n",
      " 72  PoolQC         7 non-null      object \n",
      " 73  Fence          237 non-null    object \n",
      " 74  MiscFeature    44 non-null     object \n",
      " 75  MiscVal        1168 non-null   int64  \n",
      " 76  MoSold         1168 non-null   int64  \n",
      " 77  YrSold         1168 non-null   int64  \n",
      " 78  SaleType       1168 non-null   object \n",
      " 79  SaleCondition  1168 non-null   object \n",
      " 80  SalePrice      1168 non-null   int64  \n",
      "dtypes: float64(3), int64(35), object(43)\n",
      "memory usage: 739.2+ KB\n"
     ]
    }
   ],
   "source": [
    "train.info()"
   ]
  },
  {
   "cell_type": "markdown",
   "id": "64d2a674",
   "metadata": {},
   "source": [
    "checked the information of the train data"
   ]
  },
  {
   "cell_type": "code",
   "execution_count": 6,
   "id": "966684cb",
   "metadata": {},
   "outputs": [],
   "source": [
    "train.drop('Id',axis = 1,inplace = True)"
   ]
  },
  {
   "cell_type": "markdown",
   "id": "ea7f43b9",
   "metadata": {},
   "source": [
    "dropped the un-necessary column"
   ]
  },
  {
   "cell_type": "code",
   "execution_count": 8,
   "id": "338d4797",
   "metadata": {},
   "outputs": [
    {
     "data": {
      "text/html": [
       "<div>\n",
       "<style scoped>\n",
       "    .dataframe tbody tr th:only-of-type {\n",
       "        vertical-align: middle;\n",
       "    }\n",
       "\n",
       "    .dataframe tbody tr th {\n",
       "        vertical-align: top;\n",
       "    }\n",
       "\n",
       "    .dataframe thead th {\n",
       "        text-align: right;\n",
       "    }\n",
       "</style>\n",
       "<table border=\"1\" class=\"dataframe\">\n",
       "  <thead>\n",
       "    <tr style=\"text-align: right;\">\n",
       "      <th></th>\n",
       "      <th>MSSubClass</th>\n",
       "      <th>LotFrontage</th>\n",
       "      <th>LotArea</th>\n",
       "      <th>OverallQual</th>\n",
       "      <th>OverallCond</th>\n",
       "      <th>YearBuilt</th>\n",
       "      <th>YearRemodAdd</th>\n",
       "      <th>MasVnrArea</th>\n",
       "      <th>BsmtFinSF1</th>\n",
       "      <th>BsmtFinSF2</th>\n",
       "      <th>...</th>\n",
       "      <th>WoodDeckSF</th>\n",
       "      <th>OpenPorchSF</th>\n",
       "      <th>EnclosedPorch</th>\n",
       "      <th>3SsnPorch</th>\n",
       "      <th>ScreenPorch</th>\n",
       "      <th>PoolArea</th>\n",
       "      <th>MiscVal</th>\n",
       "      <th>MoSold</th>\n",
       "      <th>YrSold</th>\n",
       "      <th>SalePrice</th>\n",
       "    </tr>\n",
       "  </thead>\n",
       "  <tbody>\n",
       "    <tr>\n",
       "      <th>count</th>\n",
       "      <td>1168.000000</td>\n",
       "      <td>954.00000</td>\n",
       "      <td>1168.000000</td>\n",
       "      <td>1168.000000</td>\n",
       "      <td>1168.000000</td>\n",
       "      <td>1168.000000</td>\n",
       "      <td>1168.000000</td>\n",
       "      <td>1161.000000</td>\n",
       "      <td>1168.000000</td>\n",
       "      <td>1168.000000</td>\n",
       "      <td>...</td>\n",
       "      <td>1168.000000</td>\n",
       "      <td>1168.000000</td>\n",
       "      <td>1168.000000</td>\n",
       "      <td>1168.000000</td>\n",
       "      <td>1168.000000</td>\n",
       "      <td>1168.000000</td>\n",
       "      <td>1168.000000</td>\n",
       "      <td>1168.000000</td>\n",
       "      <td>1168.000000</td>\n",
       "      <td>1168.000000</td>\n",
       "    </tr>\n",
       "    <tr>\n",
       "      <th>mean</th>\n",
       "      <td>56.767979</td>\n",
       "      <td>70.98847</td>\n",
       "      <td>10484.749144</td>\n",
       "      <td>6.104452</td>\n",
       "      <td>5.595890</td>\n",
       "      <td>1970.930651</td>\n",
       "      <td>1984.758562</td>\n",
       "      <td>102.310078</td>\n",
       "      <td>444.726027</td>\n",
       "      <td>46.647260</td>\n",
       "      <td>...</td>\n",
       "      <td>96.206336</td>\n",
       "      <td>46.559932</td>\n",
       "      <td>23.015411</td>\n",
       "      <td>3.639555</td>\n",
       "      <td>15.051370</td>\n",
       "      <td>3.448630</td>\n",
       "      <td>47.315068</td>\n",
       "      <td>6.344178</td>\n",
       "      <td>2007.804795</td>\n",
       "      <td>181477.005993</td>\n",
       "    </tr>\n",
       "    <tr>\n",
       "      <th>std</th>\n",
       "      <td>41.940650</td>\n",
       "      <td>24.82875</td>\n",
       "      <td>8957.442311</td>\n",
       "      <td>1.390153</td>\n",
       "      <td>1.124343</td>\n",
       "      <td>30.145255</td>\n",
       "      <td>20.785185</td>\n",
       "      <td>182.595606</td>\n",
       "      <td>462.664785</td>\n",
       "      <td>163.520016</td>\n",
       "      <td>...</td>\n",
       "      <td>126.158988</td>\n",
       "      <td>66.381023</td>\n",
       "      <td>63.191089</td>\n",
       "      <td>29.088867</td>\n",
       "      <td>55.080816</td>\n",
       "      <td>44.896939</td>\n",
       "      <td>543.264432</td>\n",
       "      <td>2.686352</td>\n",
       "      <td>1.329738</td>\n",
       "      <td>79105.586863</td>\n",
       "    </tr>\n",
       "    <tr>\n",
       "      <th>min</th>\n",
       "      <td>20.000000</td>\n",
       "      <td>21.00000</td>\n",
       "      <td>1300.000000</td>\n",
       "      <td>1.000000</td>\n",
       "      <td>1.000000</td>\n",
       "      <td>1875.000000</td>\n",
       "      <td>1950.000000</td>\n",
       "      <td>0.000000</td>\n",
       "      <td>0.000000</td>\n",
       "      <td>0.000000</td>\n",
       "      <td>...</td>\n",
       "      <td>0.000000</td>\n",
       "      <td>0.000000</td>\n",
       "      <td>0.000000</td>\n",
       "      <td>0.000000</td>\n",
       "      <td>0.000000</td>\n",
       "      <td>0.000000</td>\n",
       "      <td>0.000000</td>\n",
       "      <td>1.000000</td>\n",
       "      <td>2006.000000</td>\n",
       "      <td>34900.000000</td>\n",
       "    </tr>\n",
       "    <tr>\n",
       "      <th>25%</th>\n",
       "      <td>20.000000</td>\n",
       "      <td>60.00000</td>\n",
       "      <td>7621.500000</td>\n",
       "      <td>5.000000</td>\n",
       "      <td>5.000000</td>\n",
       "      <td>1954.000000</td>\n",
       "      <td>1966.000000</td>\n",
       "      <td>0.000000</td>\n",
       "      <td>0.000000</td>\n",
       "      <td>0.000000</td>\n",
       "      <td>...</td>\n",
       "      <td>0.000000</td>\n",
       "      <td>0.000000</td>\n",
       "      <td>0.000000</td>\n",
       "      <td>0.000000</td>\n",
       "      <td>0.000000</td>\n",
       "      <td>0.000000</td>\n",
       "      <td>0.000000</td>\n",
       "      <td>5.000000</td>\n",
       "      <td>2007.000000</td>\n",
       "      <td>130375.000000</td>\n",
       "    </tr>\n",
       "    <tr>\n",
       "      <th>50%</th>\n",
       "      <td>50.000000</td>\n",
       "      <td>70.00000</td>\n",
       "      <td>9522.500000</td>\n",
       "      <td>6.000000</td>\n",
       "      <td>5.000000</td>\n",
       "      <td>1972.000000</td>\n",
       "      <td>1993.000000</td>\n",
       "      <td>0.000000</td>\n",
       "      <td>385.500000</td>\n",
       "      <td>0.000000</td>\n",
       "      <td>...</td>\n",
       "      <td>0.000000</td>\n",
       "      <td>24.000000</td>\n",
       "      <td>0.000000</td>\n",
       "      <td>0.000000</td>\n",
       "      <td>0.000000</td>\n",
       "      <td>0.000000</td>\n",
       "      <td>0.000000</td>\n",
       "      <td>6.000000</td>\n",
       "      <td>2008.000000</td>\n",
       "      <td>163995.000000</td>\n",
       "    </tr>\n",
       "    <tr>\n",
       "      <th>75%</th>\n",
       "      <td>70.000000</td>\n",
       "      <td>80.00000</td>\n",
       "      <td>11515.500000</td>\n",
       "      <td>7.000000</td>\n",
       "      <td>6.000000</td>\n",
       "      <td>2000.000000</td>\n",
       "      <td>2004.000000</td>\n",
       "      <td>160.000000</td>\n",
       "      <td>714.500000</td>\n",
       "      <td>0.000000</td>\n",
       "      <td>...</td>\n",
       "      <td>171.000000</td>\n",
       "      <td>70.000000</td>\n",
       "      <td>0.000000</td>\n",
       "      <td>0.000000</td>\n",
       "      <td>0.000000</td>\n",
       "      <td>0.000000</td>\n",
       "      <td>0.000000</td>\n",
       "      <td>8.000000</td>\n",
       "      <td>2009.000000</td>\n",
       "      <td>215000.000000</td>\n",
       "    </tr>\n",
       "    <tr>\n",
       "      <th>max</th>\n",
       "      <td>190.000000</td>\n",
       "      <td>313.00000</td>\n",
       "      <td>164660.000000</td>\n",
       "      <td>10.000000</td>\n",
       "      <td>9.000000</td>\n",
       "      <td>2010.000000</td>\n",
       "      <td>2010.000000</td>\n",
       "      <td>1600.000000</td>\n",
       "      <td>5644.000000</td>\n",
       "      <td>1474.000000</td>\n",
       "      <td>...</td>\n",
       "      <td>857.000000</td>\n",
       "      <td>547.000000</td>\n",
       "      <td>552.000000</td>\n",
       "      <td>508.000000</td>\n",
       "      <td>480.000000</td>\n",
       "      <td>738.000000</td>\n",
       "      <td>15500.000000</td>\n",
       "      <td>12.000000</td>\n",
       "      <td>2010.000000</td>\n",
       "      <td>755000.000000</td>\n",
       "    </tr>\n",
       "  </tbody>\n",
       "</table>\n",
       "<p>8 rows × 37 columns</p>\n",
       "</div>"
      ],
      "text/plain": [
       "        MSSubClass  LotFrontage        LotArea  OverallQual  OverallCond  \\\n",
       "count  1168.000000    954.00000    1168.000000  1168.000000  1168.000000   \n",
       "mean     56.767979     70.98847   10484.749144     6.104452     5.595890   \n",
       "std      41.940650     24.82875    8957.442311     1.390153     1.124343   \n",
       "min      20.000000     21.00000    1300.000000     1.000000     1.000000   \n",
       "25%      20.000000     60.00000    7621.500000     5.000000     5.000000   \n",
       "50%      50.000000     70.00000    9522.500000     6.000000     5.000000   \n",
       "75%      70.000000     80.00000   11515.500000     7.000000     6.000000   \n",
       "max     190.000000    313.00000  164660.000000    10.000000     9.000000   \n",
       "\n",
       "         YearBuilt  YearRemodAdd   MasVnrArea   BsmtFinSF1   BsmtFinSF2  ...  \\\n",
       "count  1168.000000   1168.000000  1161.000000  1168.000000  1168.000000  ...   \n",
       "mean   1970.930651   1984.758562   102.310078   444.726027    46.647260  ...   \n",
       "std      30.145255     20.785185   182.595606   462.664785   163.520016  ...   \n",
       "min    1875.000000   1950.000000     0.000000     0.000000     0.000000  ...   \n",
       "25%    1954.000000   1966.000000     0.000000     0.000000     0.000000  ...   \n",
       "50%    1972.000000   1993.000000     0.000000   385.500000     0.000000  ...   \n",
       "75%    2000.000000   2004.000000   160.000000   714.500000     0.000000  ...   \n",
       "max    2010.000000   2010.000000  1600.000000  5644.000000  1474.000000  ...   \n",
       "\n",
       "        WoodDeckSF  OpenPorchSF  EnclosedPorch    3SsnPorch  ScreenPorch  \\\n",
       "count  1168.000000  1168.000000    1168.000000  1168.000000  1168.000000   \n",
       "mean     96.206336    46.559932      23.015411     3.639555    15.051370   \n",
       "std     126.158988    66.381023      63.191089    29.088867    55.080816   \n",
       "min       0.000000     0.000000       0.000000     0.000000     0.000000   \n",
       "25%       0.000000     0.000000       0.000000     0.000000     0.000000   \n",
       "50%       0.000000    24.000000       0.000000     0.000000     0.000000   \n",
       "75%     171.000000    70.000000       0.000000     0.000000     0.000000   \n",
       "max     857.000000   547.000000     552.000000   508.000000   480.000000   \n",
       "\n",
       "          PoolArea       MiscVal       MoSold       YrSold      SalePrice  \n",
       "count  1168.000000   1168.000000  1168.000000  1168.000000    1168.000000  \n",
       "mean      3.448630     47.315068     6.344178  2007.804795  181477.005993  \n",
       "std      44.896939    543.264432     2.686352     1.329738   79105.586863  \n",
       "min       0.000000      0.000000     1.000000  2006.000000   34900.000000  \n",
       "25%       0.000000      0.000000     5.000000  2007.000000  130375.000000  \n",
       "50%       0.000000      0.000000     6.000000  2008.000000  163995.000000  \n",
       "75%       0.000000      0.000000     8.000000  2009.000000  215000.000000  \n",
       "max     738.000000  15500.000000    12.000000  2010.000000  755000.000000  \n",
       "\n",
       "[8 rows x 37 columns]"
      ]
     },
     "execution_count": 8,
     "metadata": {},
     "output_type": "execute_result"
    }
   ],
   "source": [
    "train.describe()"
   ]
  },
  {
   "cell_type": "markdown",
   "id": "6813dddc",
   "metadata": {},
   "source": [
    "tried to see all the statistical measures in train data"
   ]
  },
  {
   "cell_type": "code",
   "execution_count": 13,
   "id": "7858b781",
   "metadata": {},
   "outputs": [
    {
     "data": {
      "text/plain": [
       "MSSubClass         0\n",
       "MSZoning           0\n",
       "LotFrontage      214\n",
       "LotArea            0\n",
       "Street             0\n",
       "                ... \n",
       "MoSold             0\n",
       "YrSold             0\n",
       "SaleType           0\n",
       "SaleCondition      0\n",
       "SalePrice          0\n",
       "Length: 80, dtype: int64"
      ]
     },
     "execution_count": 13,
     "metadata": {},
     "output_type": "execute_result"
    }
   ],
   "source": [
    "train.isnull().sum()"
   ]
  },
  {
   "cell_type": "markdown",
   "id": "51f50d0e",
   "metadata": {},
   "source": [
    "checked if there is any null values inside the train data, and yes we can see there is null values"
   ]
  },
  {
   "cell_type": "code",
   "execution_count": 26,
   "id": "d1e137ae",
   "metadata": {},
   "outputs": [
    {
     "data": {
      "text/plain": [
       "(1168, 80)"
      ]
     },
     "execution_count": 26,
     "metadata": {},
     "output_type": "execute_result"
    }
   ],
   "source": [
    "train.shape"
   ]
  },
  {
   "cell_type": "markdown",
   "id": "b12d5494",
   "metadata": {},
   "source": [
    "checked the shape of train data"
   ]
  },
  {
   "cell_type": "markdown",
   "id": "eaee3982",
   "metadata": {},
   "source": [
    "## Visualization"
   ]
  },
  {
   "cell_type": "code",
   "execution_count": 38,
   "id": "354b2f71",
   "metadata": {},
   "outputs": [
    {
     "data": {
      "image/png": "[encoded data removed]",
      "text/plain": [
       "<Figure size 720x360 with 1 Axes>"
      ]
     },
     "metadata": {
      "needs_background": "light"
     },
     "output_type": "display_data"
    },
    {
     "data": {
      "image/png": "[encoded data removed]",
      "text/plain": [
       "<Figure size 720x360 with 1 Axes>"
      ]
     },
     "metadata": {
      "needs_background": "light"
     },
     "output_type": "display_data"
    },
    {
     "data": {
      "image/png": "[encoded data removed]",
      "text/plain": [
       "<Figure size 720x360 with 1 Axes>"
      ]
     },
     "metadata": {
      "needs_background": "light"
     },
     "output_type": "display_data"
    },
    {
     "data": {
      "image/png": "[encoded data removed]",
      "text/plain": [
       "<Figure size 720x360 with 1 Axes>"
      ]
     },
     "metadata": {
      "needs_background": "light"
     },
     "output_type": "display_data"
    },
    {
     "data": {
      "image/png": "[encoded data removed]",
      "text/plain": [
       "<Figure size 720x360 with 1 Axes>"
      ]
     },
     "metadata": {
      "needs_background": "light"
     },
     "output_type": "display_data"
    },
    {
     "data": {
      "image/png": "[encoded data removed]",
      "text/plain": [
       "<Figure size 720x360 with 1 Axes>"
      ]
     },
     "metadata": {
      "needs_background": "light"
     },
     "output_type": "display_data"
    },
    {
     "data": {
      "image/png": "[encoded data removed]",
      "text/plain": [
       "<Figure size 720x360 with 1 Axes>"
      ]
     },
     "metadata": {
      "needs_background": "light"
     },
     "output_type": "display_data"
    },
    {
     "data": {
      "image/png": "[encoded data removed]",
      "text/plain": [
       "<Figure size 720x360 with 1 Axes>"
      ]
     },
     "metadata": {
      "needs_background": "light"
     },
     "output_type": "display_data"
    },
    {
     "data": {
      "image/png": "[encoded data removed]",
      "text/plain": [
       "<Figure size 720x360 with 1 Axes>"
      ]
     },
     "metadata": {
      "needs_background": "light"
     },
     "output_type": "display_data"
    }
   ],
   "source": [
    "col = ['MSSubClass','MSZoning','Street','LotShape','Exterior1st','RoofStyle','HouseStyle','GarageType','Neighborhood']\n",
    "for i in col:\n",
    "    plt.figure(figsize = (10,5))\n",
    "    sns.countplot(train[i])\n",
    "    plt.xticks(rotation = 90)\n",
    "    plt.show()"
   ]
  },
  {
   "cell_type": "markdown",
   "id": "9080743e",
   "metadata": {},
   "source": [
    "from the above graph we could conclude that:\n",
    "* Most of the sales is generated from 1-story 1946 & newer all styles.\n",
    "* Most of the sales is done in Residential low density area.\n",
    "* Most of the Houses are seen in paved area.\n",
    "* Most of the propert in area is in regular shape.\n",
    "* Most of the Houses where having Vinyl Siding.\n",
    "* It has been seen that most of the houses were having gable type roof top from this colclusion we can assume that people are more likely to stay in gable type roof top house.\n",
    "* It has also seen that most of the houses is having 1story house style form this we can assume that most of the people prefer   1story house style.\n",
    "* It has been also seen that most of the houses are having guarage attached so we can also assume that most of the people prefer to have garage attached in their house."
   ]
  },
  {
   "cell_type": "code",
   "execution_count": 25,
   "id": "885d721a",
   "metadata": {},
   "outputs": [
    {
     "data": {
      "image/png": "[encoded data removed]",
      "text/plain": [
       "<Figure size 432x288 with 1 Axes>"
      ]
     },
     "metadata": {
      "needs_background": "light"
     },
     "output_type": "display_data"
    },
    {
     "data": {
      "image/png": "[encoded data removed]",
      "text/plain": [
       "<Figure size 432x288 with 1 Axes>"
      ]
     },
     "metadata": {
      "needs_background": "light"
     },
     "output_type": "display_data"
    },
    {
     "data": {
      "image/png": "[encoded data removed]",
      "text/plain": [
       "<Figure size 432x288 with 1 Axes>"
      ]
     },
     "metadata": {
      "needs_background": "light"
     },
     "output_type": "display_data"
    },
    {
     "data": {
      "image/png": "[encoded data removed]",
      "text/plain": [
       "<Figure size 432x288 with 1 Axes>"
      ]
     },
     "metadata": {
      "needs_background": "light"
     },
     "output_type": "display_data"
    },
    {
     "data": {
      "image/png": "[encoded data removed]",
      "text/plain": [
       "<Figure size 432x288 with 1 Axes>"
      ]
     },
     "metadata": {
      "needs_background": "light"
     },
     "output_type": "display_data"
    },
    {
     "data": {
      "image/png": "[encoded data removed]",
      "text/plain": [
       "<Figure size 432x288 with 1 Axes>"
      ]
     },
     "metadata": {
      "needs_background": "light"
     },
     "output_type": "display_data"
    },
    {
     "data": {
      "image/png": "[encoded data removed]",
      "text/plain": [
       "<Figure size 432x288 with 1 Axes>"
      ]
     },
     "metadata": {
      "needs_background": "light"
     },
     "output_type": "display_data"
    },
    {
     "data": {
      "image/png": "[encoded data removed]",
      "text/plain": [
       "<Figure size 432x288 with 1 Axes>"
      ]
     },
     "metadata": {
      "needs_background": "light"
     },
     "output_type": "display_data"
    },
    {
     "data": {
      "image/png": "[encoded data removed]",
      "text/plain": [
       "<Figure size 432x288 with 1 Axes>"
      ]
     },
     "metadata": {
      "needs_background": "light"
     },
     "output_type": "display_data"
    },
    {
     "data": {
      "image/png": "[encoded data removed]",
      "text/plain": [
       "<Figure size 432x288 with 1 Axes>"
      ]
     },
     "metadata": {
      "needs_background": "light"
     },
     "output_type": "display_data"
    }
   ],
   "source": [
    "col = ['GarageArea','WoodDeckSF','OpenPorchSF','EnclosedPorch','MoSold','LotFrontage','MasVnrArea','BsmtFinSF1','1stFlrSF','GrLivArea']\n",
    "for i in col:\n",
    "    plt.figure(figsize = (6,4))\n",
    "    sns.distplot(train[i])"
   ]
  },
  {
   "cell_type": "markdown",
   "id": "4a37d841",
   "metadata": {},
   "source": [
    "from the above graph we could conclude that:-\n",
    "* openPorchSF,EnclosedPorch,MasVnrArea,WoodDeckSF,LotFrontage,BsmtFinSF1,1stFlrSF,GrLivArea has right skewed.\n",
    "* Rest data are normally distributed.\n",
    "\n",
    "so we can see that there is skewness in the dataset and we have to remove the skewness."
   ]
  },
  {
   "cell_type": "code",
   "execution_count": 37,
   "id": "93c512f5",
   "metadata": {},
   "outputs": [
    {
     "data": {
      "image/png": "[encoded data removed]",
      "text/plain": [
       "<Figure size 432x288 with 1 Axes>"
      ]
     },
     "metadata": {
      "needs_background": "light"
     },
     "output_type": "display_data"
    },
    {
     "data": {
      "image/png": "[encoded data removed]",
      "text/plain": [
       "<Figure size 432x288 with 1 Axes>"
      ]
     },
     "metadata": {
      "needs_background": "light"
     },
     "output_type": "display_data"
    },
    {
     "data": {
      "image/png": "[encoded data removed]",
      "text/plain": [
       "<Figure size 432x288 with 1 Axes>"
      ]
     },
     "metadata": {
      "needs_background": "light"
     },
     "output_type": "display_data"
    },
    {
     "data": {
      "image/png": "[encoded data removed]",
      "text/plain": [
       "<Figure size 432x288 with 1 Axes>"
      ]
     },
     "metadata": {
      "needs_background": "light"
     },
     "output_type": "display_data"
    },
    {
     "data": {
      "image/png": "[encoded data removed]",
      "text/plain": [
       "<Figure size 432x288 with 1 Axes>"
      ]
     },
     "metadata": {
      "needs_background": "light"
     },
     "output_type": "display_data"
    },
    {
     "data": {
      "image/png": "[encoded data removed]",
      "text/plain": [
       "<Figure size 432x288 with 1 Axes>"
      ]
     },
     "metadata": {
      "needs_background": "light"
     },
     "output_type": "display_data"
    },
    {
     "data": {
      "image/png": "[encoded data removed]",
      "text/plain": [
       "<Figure size 432x288 with 1 Axes>"
      ]
     },
     "metadata": {
      "needs_background": "light"
     },
     "output_type": "display_data"
    },
    {
     "data": {
      "image/png": "[encoded data removed]",
      "text/plain": [
       "<Figure size 432x288 with 1 Axes>"
      ]
     },
     "metadata": {
      "needs_background": "light"
     },
     "output_type": "display_data"
    },
    {
     "data": {
      "image/png": "[encoded data removed]",
      "text/plain": [
       "<Figure size 432x288 with 1 Axes>"
      ]
     },
     "metadata": {
      "needs_background": "light"
     },
     "output_type": "display_data"
    }
   ],
   "source": [
    "col = ['OverallCond','ExterQual','ExterCond','BsmtQual','BsmtExposure','GarageQual','PoolQC','HeatingQC','CentralAir']\n",
    "for i in col:\n",
    "    sns.countplot(train[i])\n",
    "    plt.show()"
   ]
  },
  {
   "cell_type": "markdown",
   "id": "81b17c0e",
   "metadata": {},
   "source": [
    "from the above graph we could conclude that:\n",
    "* Most of the people are having overall average conditioned home.\n",
    "* Most of the houses are having average/typical quality of material in exterior and also in exterior.\n",
    "* Most of the houses is having good quality basement.\n",
    "* none of the homes is having walkout or garden level walls.\n",
    "* Most of the guarage is having average/typical quality.\n",
    "* and most of the houses having good quality pool."
   ]
  },
  {
   "cell_type": "markdown",
   "id": "0d368f7d",
   "metadata": {},
   "source": [
    "## Preprocessing"
   ]
  },
  {
   "cell_type": "code",
   "execution_count": 19,
   "id": "0f3a67b8",
   "metadata": {},
   "outputs": [
    {
     "data": {
      "text/plain": [
       "Id                0.026526\n",
       "MSSubClass        1.422019\n",
       "LotFrontage       2.450241\n",
       "LotArea          10.659285\n",
       "OverallQual       0.175082\n",
       "OverallCond       0.580714\n",
       "YearBuilt        -0.579204\n",
       "YearRemodAdd     -0.495864\n",
       "MasVnrArea        2.826173\n",
       "BsmtFinSF1        1.871606\n",
       "BsmtFinSF2        4.365829\n",
       "BsmtUnfSF         0.909057\n",
       "TotalBsmtSF       1.744591\n",
       "1stFlrSF          1.513707\n",
       "2ndFlrSF          0.823479\n",
       "LowQualFinSF      8.666142\n",
       "GrLivArea         1.449952\n",
       "BsmtFullBath      0.627106\n",
       "BsmtHalfBath      4.264403\n",
       "FullBath          0.057809\n",
       "HalfBath          0.656492\n",
       "BedroomAbvGr      0.243855\n",
       "KitchenAbvGr      4.365259\n",
       "TotRmsAbvGrd      0.644657\n",
       "Fireplaces        0.671966\n",
       "GarageYrBlt      -0.644564\n",
       "GarageCars       -0.358556\n",
       "GarageArea        0.189665\n",
       "WoodDeckSF        1.504929\n",
       "OpenPorchSF       2.410840\n",
       "EnclosedPorch     3.043610\n",
       "3SsnPorch         9.770611\n",
       "ScreenPorch       4.105741\n",
       "PoolArea         13.243711\n",
       "MiscVal          23.065943\n",
       "MoSold            0.220979\n",
       "YrSold            0.115765\n",
       "SalePrice         1.953878\n",
       "dtype: float64"
      ]
     },
     "execution_count": 19,
     "metadata": {},
     "output_type": "execute_result"
    }
   ],
   "source": [
    "train.skew()"
   ]
  },
  {
   "cell_type": "markdown",
   "id": "326c6cd8",
   "metadata": {},
   "source": [
    "checked if there is skewness in train data and we found that there is skewness so we try to remove it"
   ]
  },
  {
   "cell_type": "code",
   "execution_count": 7,
   "id": "f7cc631d",
   "metadata": {},
   "outputs": [],
   "source": [
    "skew = ['MiscVal','PoolArea','ScreenPorch','3SsnPorch','EnclosedPorch','OpenPorchSF','WoodDeckSF','KitchenAbvGr','BsmtHalfBath',\n",
    "       'BsmtHalfBath','LowQualFinSF','BsmtFinSF2','LotArea','MasVnrArea','LotFrontage']\n",
    "for col in skew:\n",
    "    if train.skew().loc[col]>0.055:\n",
    "        train[col] = np.log1p(train[col])"
   ]
  },
  {
   "cell_type": "markdown",
   "id": "062b1b63",
   "metadata": {},
   "source": [
    "here we have removed the skewness"
   ]
  },
  {
   "cell_type": "code",
   "execution_count": 22,
   "id": "120bcfa7",
   "metadata": {},
   "outputs": [
    {
     "data": {
      "text/plain": [
       "(1168, 81)"
      ]
     },
     "execution_count": 22,
     "metadata": {},
     "output_type": "execute_result"
    }
   ],
   "source": [
    "train.shape"
   ]
  },
  {
   "cell_type": "markdown",
   "id": "21edecf0",
   "metadata": {},
   "source": [
    "## Plotting outliers"
   ]
  },
  {
   "cell_type": "code",
   "execution_count": 23,
   "id": "fce287c4",
   "metadata": {},
   "outputs": [
    {
     "data": {
      "text/plain": [
       "Id                 AxesSubplot(0.125,0.808774;0.0731132x0.0712264)\n",
       "MSSubClass       AxesSubplot(0.212736,0.808774;0.0731132x0.0712...\n",
       "LotFrontage      AxesSubplot(0.300472,0.808774;0.0731132x0.0712...\n",
       "LotArea          AxesSubplot(0.388208,0.808774;0.0731132x0.0712...\n",
       "OverallQual      AxesSubplot(0.475943,0.808774;0.0731132x0.0712...\n",
       "OverallCond      AxesSubplot(0.563679,0.808774;0.0731132x0.0712...\n",
       "YearBuilt        AxesSubplot(0.651415,0.808774;0.0731132x0.0712...\n",
       "YearRemodAdd     AxesSubplot(0.739151,0.808774;0.0731132x0.0712...\n",
       "MasVnrArea       AxesSubplot(0.826887,0.808774;0.0731132x0.0712...\n",
       "BsmtFinSF1         AxesSubplot(0.125,0.723302;0.0731132x0.0712264)\n",
       "BsmtFinSF2       AxesSubplot(0.212736,0.723302;0.0731132x0.0712...\n",
       "BsmtUnfSF        AxesSubplot(0.300472,0.723302;0.0731132x0.0712...\n",
       "TotalBsmtSF      AxesSubplot(0.388208,0.723302;0.0731132x0.0712...\n",
       "1stFlrSF         AxesSubplot(0.475943,0.723302;0.0731132x0.0712...\n",
       "2ndFlrSF         AxesSubplot(0.563679,0.723302;0.0731132x0.0712...\n",
       "LowQualFinSF     AxesSubplot(0.651415,0.723302;0.0731132x0.0712...\n",
       "GrLivArea        AxesSubplot(0.739151,0.723302;0.0731132x0.0712...\n",
       "BsmtFullBath     AxesSubplot(0.826887,0.723302;0.0731132x0.0712...\n",
       "BsmtHalfBath        AxesSubplot(0.125,0.63783;0.0731132x0.0712264)\n",
       "FullBath         AxesSubplot(0.212736,0.63783;0.0731132x0.0712264)\n",
       "HalfBath         AxesSubplot(0.300472,0.63783;0.0731132x0.0712264)\n",
       "BedroomAbvGr     AxesSubplot(0.388208,0.63783;0.0731132x0.0712264)\n",
       "KitchenAbvGr     AxesSubplot(0.475943,0.63783;0.0731132x0.0712264)\n",
       "TotRmsAbvGrd     AxesSubplot(0.563679,0.63783;0.0731132x0.0712264)\n",
       "Fireplaces       AxesSubplot(0.651415,0.63783;0.0731132x0.0712264)\n",
       "GarageYrBlt      AxesSubplot(0.739151,0.63783;0.0731132x0.0712264)\n",
       "GarageCars       AxesSubplot(0.826887,0.63783;0.0731132x0.0712264)\n",
       "GarageArea         AxesSubplot(0.125,0.552358;0.0731132x0.0712264)\n",
       "WoodDeckSF       AxesSubplot(0.212736,0.552358;0.0731132x0.0712...\n",
       "OpenPorchSF      AxesSubplot(0.300472,0.552358;0.0731132x0.0712...\n",
       "EnclosedPorch    AxesSubplot(0.388208,0.552358;0.0731132x0.0712...\n",
       "3SsnPorch        AxesSubplot(0.475943,0.552358;0.0731132x0.0712...\n",
       "ScreenPorch      AxesSubplot(0.563679,0.552358;0.0731132x0.0712...\n",
       "PoolArea         AxesSubplot(0.651415,0.552358;0.0731132x0.0712...\n",
       "MiscVal          AxesSubplot(0.739151,0.552358;0.0731132x0.0712...\n",
       "MoSold           AxesSubplot(0.826887,0.552358;0.0731132x0.0712...\n",
       "YrSold             AxesSubplot(0.125,0.466887;0.0731132x0.0712264)\n",
       "SalePrice        AxesSubplot(0.212736,0.466887;0.0731132x0.0712...\n",
       "dtype: object"
      ]
     },
     "execution_count": 23,
     "metadata": {},
     "output_type": "execute_result"
    },
    {
     "data": {
      "image/png": "[encoded data removed]",
      "text/plain": [
       "<Figure size 1440x1080 with 81 Axes>"
      ]
     },
     "metadata": {
      "needs_background": "light"
     },
     "output_type": "display_data"
    }
   ],
   "source": [
    "train.plot(kind = 'box',subplots = True,layout=(9,9),figsize = (20,15))"
   ]
  },
  {
   "cell_type": "markdown",
   "id": "144285fa",
   "metadata": {},
   "source": [
    "here we have plot the box plot so that we can see is there any outliers or not and we can see there is outliers present inside the train data"
   ]
  },
  {
   "cell_type": "markdown",
   "id": "bed06795",
   "metadata": {},
   "source": [
    "## Applying IQR method"
   ]
  },
  {
   "cell_type": "code",
   "execution_count": 10,
   "id": "590dc91a",
   "metadata": {},
   "outputs": [],
   "source": [
    "train_contcol = train.drop(columns = ['MSSubClass', 'MSZoning', 'Street',\n",
    "       'Alley', 'LotShape', 'LandContour', 'Utilities', 'LotConfig',\n",
    "       'LandSlope', 'Neighborhood', 'Condition1', 'Condition2', 'BldgType',\n",
    "       'HouseStyle', 'OverallQual', 'OverallCond', 'YearBuilt', 'YearRemodAdd',\n",
    "       'RoofStyle', 'RoofMatl', 'Exterior1st', 'Exterior2nd', 'MasVnrType',\n",
    "       'MasVnrArea', 'ExterQual', 'ExterCond', 'Foundation', 'BsmtQual',\n",
    "       'BsmtCond', 'BsmtExposure', 'BsmtFinType1', 'BsmtFinSF1',\n",
    "       'BsmtFinType2', 'BsmtUnfSF', 'TotalBsmtSF', 'Heating',\n",
    "       'HeatingQC', 'CentralAir', 'Electrical', '1stFlrSF', '2ndFlrSF',\n",
    "       'LowQualFinSF', 'GrLivArea', 'BsmtFullBath', 'BsmtHalfBath', 'FullBath',\n",
    "       'HalfBath', 'BedroomAbvGr', 'KitchenAbvGr', 'KitchenQual',\n",
    "       'TotRmsAbvGrd', 'Functional', 'Fireplaces', 'FireplaceQu', 'GarageType',\n",
    "       'GarageYrBlt', 'GarageFinish', 'GarageCars', 'GarageArea', 'GarageQual',\n",
    "       'GarageCond', 'PavedDrive', 'WoodDeckSF', 'OpenPorchSF',\n",
    "       '3SsnPorch', 'ScreenPorch', 'PoolArea', 'PoolQC',\n",
    "       'Fence', 'MiscFeature', 'MoSold', 'YrSold', 'SaleType',\n",
    "       'SaleCondition', 'SalePrice'],axis = 1)"
   ]
  },
  {
   "cell_type": "code",
   "execution_count": 11,
   "id": "0b401b80",
   "metadata": {},
   "outputs": [
    {
     "data": {
      "text/plain": [
       "Index(['LotFrontage', 'LotArea', 'BsmtFinSF2', 'EnclosedPorch', 'MiscVal'], dtype='object')"
      ]
     },
     "execution_count": 11,
     "metadata": {},
     "output_type": "execute_result"
    }
   ],
   "source": [
    "train_contcol.columns"
   ]
  },
  {
   "cell_type": "code",
   "execution_count": 12,
   "id": "d85cc96b",
   "metadata": {},
   "outputs": [],
   "source": [
    "# finding out the quantile of data with continuous columns\n",
    "Q1 = train_contcol.quantile(0.25)\n",
    "Q3 = train_contcol.quantile(0.75)\n",
    "IQR = Q3 - Q1\n",
    "\n",
    "# removing outliers using IQR method\n",
    "train_new = train[~((train_contcol < (Q1 - 1.5 * IQR)) |(train_contcol > (Q3 + 1.5 * IQR))).any(axis=1)]"
   ]
  },
  {
   "cell_type": "markdown",
   "id": "5659c896",
   "metadata": {},
   "source": [
    "here we have removed the outliers"
   ]
  },
  {
   "cell_type": "code",
   "execution_count": 13,
   "id": "f3d77d70",
   "metadata": {},
   "outputs": [
    {
     "name": "stdout",
     "output_type": "stream",
     "text": [
      "(737, 80)\n",
      "(1168, 80)\n"
     ]
    }
   ],
   "source": [
    "print(train_new.shape)\n",
    "print(train.shape)"
   ]
  },
  {
   "cell_type": "markdown",
   "id": "c852f2ee",
   "metadata": {},
   "source": [
    "we can check the shape of the data many outliers has been removed"
   ]
  },
  {
   "cell_type": "code",
   "execution_count": 67,
   "id": "53e82d8b",
   "metadata": {},
   "outputs": [
    {
     "name": "stdout",
     "output_type": "stream",
     "text": [
      "<class 'pandas.core.frame.DataFrame'>\n",
      "Int64Index: 737 entries, 0 to 1167\n",
      "Data columns (total 81 columns):\n",
      " #   Column         Non-Null Count  Dtype  \n",
      "---  ------         --------------  -----  \n",
      " 0   Id             737 non-null    int64  \n",
      " 1   MSSubClass     737 non-null    int64  \n",
      " 2   MSZoning       737 non-null    object \n",
      " 3   LotFrontage    601 non-null    float64\n",
      " 4   LotArea        737 non-null    float64\n",
      " 5   Street         737 non-null    object \n",
      " 6   Alley          20 non-null     object \n",
      " 7   LotShape       737 non-null    object \n",
      " 8   LandContour    737 non-null    object \n",
      " 9   Utilities      737 non-null    object \n",
      " 10  LotConfig      737 non-null    object \n",
      " 11  LandSlope      737 non-null    object \n",
      " 12  Neighborhood   737 non-null    object \n",
      " 13  Condition1     737 non-null    object \n",
      " 14  Condition2     737 non-null    object \n",
      " 15  BldgType       737 non-null    object \n",
      " 16  HouseStyle     737 non-null    object \n",
      " 17  OverallQual    737 non-null    int64  \n",
      " 18  OverallCond    737 non-null    int64  \n",
      " 19  YearBuilt      737 non-null    int64  \n",
      " 20  YearRemodAdd   737 non-null    int64  \n",
      " 21  RoofStyle      737 non-null    object \n",
      " 22  RoofMatl       737 non-null    object \n",
      " 23  Exterior1st    737 non-null    object \n",
      " 24  Exterior2nd    737 non-null    object \n",
      " 25  MasVnrType     732 non-null    object \n",
      " 26  MasVnrArea     732 non-null    float64\n",
      " 27  ExterQual      737 non-null    object \n",
      " 28  ExterCond      737 non-null    object \n",
      " 29  Foundation     737 non-null    object \n",
      " 30  BsmtQual       714 non-null    object \n",
      " 31  BsmtCond       714 non-null    object \n",
      " 32  BsmtExposure   713 non-null    object \n",
      " 33  BsmtFinType1   714 non-null    object \n",
      " 34  BsmtFinSF1     737 non-null    int64  \n",
      " 35  BsmtFinType2   714 non-null    object \n",
      " 36  BsmtFinSF2     737 non-null    float64\n",
      " 37  BsmtUnfSF      737 non-null    int64  \n",
      " 38  TotalBsmtSF    737 non-null    int64  \n",
      " 39  Heating        737 non-null    object \n",
      " 40  HeatingQC      737 non-null    object \n",
      " 41  CentralAir     737 non-null    object \n",
      " 42  Electrical     737 non-null    object \n",
      " 43  1stFlrSF       737 non-null    int64  \n",
      " 44  2ndFlrSF       737 non-null    int64  \n",
      " 45  LowQualFinSF   737 non-null    float64\n",
      " 46  GrLivArea      737 non-null    int64  \n",
      " 47  BsmtFullBath   737 non-null    int64  \n",
      " 48  BsmtHalfBath   737 non-null    float64\n",
      " 49  FullBath       737 non-null    int64  \n",
      " 50  HalfBath       737 non-null    int64  \n",
      " 51  BedroomAbvGr   737 non-null    int64  \n",
      " 52  KitchenAbvGr   737 non-null    float64\n",
      " 53  KitchenQual    737 non-null    object \n",
      " 54  TotRmsAbvGrd   737 non-null    int64  \n",
      " 55  Functional     737 non-null    object \n",
      " 56  Fireplaces     737 non-null    int64  \n",
      " 57  FireplaceQu    396 non-null    object \n",
      " 58  GarageType     700 non-null    object \n",
      " 59  GarageYrBlt    700 non-null    float64\n",
      " 60  GarageFinish   700 non-null    object \n",
      " 61  GarageCars     737 non-null    int64  \n",
      " 62  GarageArea     737 non-null    int64  \n",
      " 63  GarageQual     700 non-null    object \n",
      " 64  GarageCond     700 non-null    object \n",
      " 65  PavedDrive     737 non-null    object \n",
      " 66  WoodDeckSF     737 non-null    float64\n",
      " 67  OpenPorchSF    737 non-null    float64\n",
      " 68  EnclosedPorch  737 non-null    float64\n",
      " 69  3SsnPorch      737 non-null    float64\n",
      " 70  ScreenPorch    737 non-null    float64\n",
      " 71  PoolArea       737 non-null    float64\n",
      " 72  PoolQC         2 non-null      object \n",
      " 73  Fence          133 non-null    object \n",
      " 74  MiscFeature    2 non-null      object \n",
      " 75  MiscVal        737 non-null    float64\n",
      " 76  MoSold         737 non-null    int64  \n",
      " 77  YrSold         737 non-null    int64  \n",
      " 78  SaleType       737 non-null    object \n",
      " 79  SaleCondition  737 non-null    object \n",
      " 80  SalePrice      737 non-null    int64  \n",
      "dtypes: float64(15), int64(23), object(43)\n",
      "memory usage: 472.1+ KB\n"
     ]
    }
   ],
   "source": [
    "train_new.info()"
   ]
  },
  {
   "cell_type": "code",
   "execution_count": 14,
   "id": "d8ede909",
   "metadata": {},
   "outputs": [],
   "source": [
    "col = ['MiscFeature','Fence','PoolQC','GarageCond','GarageQual','GarageFinish','GarageYrBlt','GarageType','FireplaceQu','BsmtFinType2',\n",
    "      'BsmtFinSF1','BsmtFinType1','BsmtCond','BsmtQual','MasVnrArea','MasVnrType','Alley','LotFrontage']\n",
    "\n",
    "for i in col:\n",
    "    train_new[i] = train_new[i].replace(np.nan,'0')"
   ]
  },
  {
   "cell_type": "markdown",
   "id": "6f4d3cac",
   "metadata": {},
   "source": [
    "here we have replaced the nan values with 0"
   ]
  },
  {
   "cell_type": "code",
   "execution_count": 15,
   "id": "e0c96767",
   "metadata": {},
   "outputs": [],
   "source": [
    "# now split the data into feature and target variables\n",
    "x = train_new.drop(columns = ['SalePrice'])\n",
    "y = train_new[['SalePrice']]"
   ]
  },
  {
   "cell_type": "markdown",
   "id": "77b51ce3",
   "metadata": {},
   "source": [
    "here we have created two variables x and y"
   ]
  },
  {
   "cell_type": "code",
   "execution_count": 12,
   "id": "a860e6dc",
   "metadata": {},
   "outputs": [
    {
     "name": "stdout",
     "output_type": "stream",
     "text": [
      "(737, 80)\n",
      "(737, 1)\n"
     ]
    }
   ],
   "source": [
    "print(x.shape)\n",
    "print(y.shape)"
   ]
  },
  {
   "cell_type": "markdown",
   "id": "cdd3ab75",
   "metadata": {},
   "source": [
    "checked the shape of x and y"
   ]
  },
  {
   "cell_type": "code",
   "execution_count": 16,
   "id": "487e202d",
   "metadata": {},
   "outputs": [
    {
     "data": {
      "text/html": [
       "<div>\n",
       "<style scoped>\n",
       "    .dataframe tbody tr th:only-of-type {\n",
       "        vertical-align: middle;\n",
       "    }\n",
       "\n",
       "    .dataframe tbody tr th {\n",
       "        vertical-align: top;\n",
       "    }\n",
       "\n",
       "    .dataframe thead th {\n",
       "        text-align: right;\n",
       "    }\n",
       "</style>\n",
       "<table border=\"1\" class=\"dataframe\">\n",
       "  <thead>\n",
       "    <tr style=\"text-align: right;\">\n",
       "      <th></th>\n",
       "      <th>MSSubClass</th>\n",
       "      <th>MSZoning</th>\n",
       "      <th>LotFrontage</th>\n",
       "      <th>LotArea</th>\n",
       "      <th>Street</th>\n",
       "      <th>Alley</th>\n",
       "      <th>LotShape</th>\n",
       "      <th>LandContour</th>\n",
       "      <th>Utilities</th>\n",
       "      <th>LotConfig</th>\n",
       "      <th>...</th>\n",
       "      <th>ScreenPorch</th>\n",
       "      <th>PoolArea</th>\n",
       "      <th>PoolQC</th>\n",
       "      <th>Fence</th>\n",
       "      <th>MiscFeature</th>\n",
       "      <th>MiscVal</th>\n",
       "      <th>MoSold</th>\n",
       "      <th>YrSold</th>\n",
       "      <th>SaleType</th>\n",
       "      <th>SaleCondition</th>\n",
       "    </tr>\n",
       "  </thead>\n",
       "  <tbody>\n",
       "    <tr>\n",
       "      <th>0</th>\n",
       "      <td>120</td>\n",
       "      <td>3</td>\n",
       "      <td>0</td>\n",
       "      <td>8.502891</td>\n",
       "      <td>1</td>\n",
       "      <td>0</td>\n",
       "      <td>0</td>\n",
       "      <td>3</td>\n",
       "      <td>0</td>\n",
       "      <td>3</td>\n",
       "      <td>...</td>\n",
       "      <td>0.0</td>\n",
       "      <td>0.0</td>\n",
       "      <td>0</td>\n",
       "      <td>0</td>\n",
       "      <td>0</td>\n",
       "      <td>0.0</td>\n",
       "      <td>2</td>\n",
       "      <td>2007</td>\n",
       "      <td>8</td>\n",
       "      <td>4</td>\n",
       "    </tr>\n",
       "    <tr>\n",
       "      <th>2</th>\n",
       "      <td>60</td>\n",
       "      <td>3</td>\n",
       "      <td>4.532599</td>\n",
       "      <td>9.202409</td>\n",
       "      <td>1</td>\n",
       "      <td>0</td>\n",
       "      <td>0</td>\n",
       "      <td>3</td>\n",
       "      <td>0</td>\n",
       "      <td>1</td>\n",
       "      <td>...</td>\n",
       "      <td>0.0</td>\n",
       "      <td>0.0</td>\n",
       "      <td>0</td>\n",
       "      <td>0</td>\n",
       "      <td>0</td>\n",
       "      <td>0.0</td>\n",
       "      <td>6</td>\n",
       "      <td>2007</td>\n",
       "      <td>8</td>\n",
       "      <td>4</td>\n",
       "    </tr>\n",
       "    <tr>\n",
       "      <th>3</th>\n",
       "      <td>20</td>\n",
       "      <td>3</td>\n",
       "      <td>4.663439</td>\n",
       "      <td>9.371779</td>\n",
       "      <td>1</td>\n",
       "      <td>0</td>\n",
       "      <td>0</td>\n",
       "      <td>3</td>\n",
       "      <td>0</td>\n",
       "      <td>3</td>\n",
       "      <td>...</td>\n",
       "      <td>0.0</td>\n",
       "      <td>0.0</td>\n",
       "      <td>0</td>\n",
       "      <td>3</td>\n",
       "      <td>0</td>\n",
       "      <td>0.0</td>\n",
       "      <td>1</td>\n",
       "      <td>2010</td>\n",
       "      <td>0</td>\n",
       "      <td>4</td>\n",
       "    </tr>\n",
       "    <tr>\n",
       "      <th>4</th>\n",
       "      <td>20</td>\n",
       "      <td>3</td>\n",
       "      <td>0</td>\n",
       "      <td>9.719324</td>\n",
       "      <td>1</td>\n",
       "      <td>0</td>\n",
       "      <td>0</td>\n",
       "      <td>3</td>\n",
       "      <td>0</td>\n",
       "      <td>2</td>\n",
       "      <td>...</td>\n",
       "      <td>0.0</td>\n",
       "      <td>0.0</td>\n",
       "      <td>0</td>\n",
       "      <td>0</td>\n",
       "      <td>0</td>\n",
       "      <td>0.0</td>\n",
       "      <td>6</td>\n",
       "      <td>2009</td>\n",
       "      <td>8</td>\n",
       "      <td>4</td>\n",
       "    </tr>\n",
       "    <tr>\n",
       "      <th>5</th>\n",
       "      <td>60</td>\n",
       "      <td>3</td>\n",
       "      <td>4.077537</td>\n",
       "      <td>9.550733</td>\n",
       "      <td>1</td>\n",
       "      <td>0</td>\n",
       "      <td>0</td>\n",
       "      <td>3</td>\n",
       "      <td>0</td>\n",
       "      <td>3</td>\n",
       "      <td>...</td>\n",
       "      <td>0.0</td>\n",
       "      <td>0.0</td>\n",
       "      <td>0</td>\n",
       "      <td>0</td>\n",
       "      <td>0</td>\n",
       "      <td>0.0</td>\n",
       "      <td>11</td>\n",
       "      <td>2006</td>\n",
       "      <td>6</td>\n",
       "      <td>5</td>\n",
       "    </tr>\n",
       "  </tbody>\n",
       "</table>\n",
       "<p>5 rows × 79 columns</p>\n",
       "</div>"
      ],
      "text/plain": [
       "   MSSubClass  MSZoning LotFrontage   LotArea  Street  Alley  LotShape  \\\n",
       "0         120         3           0  8.502891       1      0         0   \n",
       "2          60         3    4.532599  9.202409       1      0         0   \n",
       "3          20         3    4.663439  9.371779       1      0         0   \n",
       "4          20         3           0  9.719324       1      0         0   \n",
       "5          60         3    4.077537  9.550733       1      0         0   \n",
       "\n",
       "   LandContour  Utilities  LotConfig  ...  ScreenPorch  PoolArea  PoolQC  \\\n",
       "0            3          0          3  ...          0.0       0.0       0   \n",
       "2            3          0          1  ...          0.0       0.0       0   \n",
       "3            3          0          3  ...          0.0       0.0       0   \n",
       "4            3          0          2  ...          0.0       0.0       0   \n",
       "5            3          0          3  ...          0.0       0.0       0   \n",
       "\n",
       "   Fence  MiscFeature  MiscVal  MoSold  YrSold  SaleType  SaleCondition  \n",
       "0      0            0      0.0       2    2007         8              4  \n",
       "2      0            0      0.0       6    2007         8              4  \n",
       "3      3            0      0.0       1    2010         0              4  \n",
       "4      0            0      0.0       6    2009         8              4  \n",
       "5      0            0      0.0      11    2006         6              5  \n",
       "\n",
       "[5 rows x 79 columns]"
      ]
     },
     "execution_count": 16,
     "metadata": {},
     "output_type": "execute_result"
    }
   ],
   "source": [
    "from sklearn.preprocessing import LabelEncoder\n",
    "\n",
    "cols = ['MSZoning', 'Street', 'Alley','Fence', 'LotShape','LandContour','Utilities','LotConfig','LandSlope','Neighborhood','Condition1',\n",
    "       'Condition2','BldgType','HouseStyle','RoofStyle','RoofMatl','Exterior1st','Exterior2nd','MasVnrType','ExterQual',\n",
    "       'ExterCond','Foundation','BsmtCond','BsmtQual','BsmtExposure','BsmtFinType1','BsmtFinType2','Heating','HeatingQC','CentralAir',\n",
    "       'Electrical','KitchenQual','Functional','FireplaceQu','GarageType','GarageFinish','GarageQual','GarageCond','PavedDrive',\n",
    "       'SaleType','SaleCondition','PoolQC','MiscFeature']\n",
    "#\n",
    "# Encode labels of multiple columns at once\n",
    "#\n",
    "x[cols] = x[cols].apply(LabelEncoder().fit_transform)\n",
    "#\n",
    "# Print head\n",
    "#\n",
    "x.head()"
   ]
  },
  {
   "cell_type": "markdown",
   "id": "a52c1a4f",
   "metadata": {},
   "source": [
    "here we have encoded all the string values to integer so that machine can identify things easily"
   ]
  },
  {
   "cell_type": "code",
   "execution_count": 17,
   "id": "92899cb3",
   "metadata": {},
   "outputs": [],
   "source": [
    "# using standard scaler\n",
    "from sklearn.preprocessing import StandardScaler\n",
    "sc = StandardScaler()\n",
    "x = sc.fit_transform(x)"
   ]
  },
  {
   "cell_type": "markdown",
   "id": "ed9bc9a9",
   "metadata": {},
   "source": [
    "here we have scalled the train data"
   ]
  },
  {
   "cell_type": "code",
   "execution_count": 18,
   "id": "bbc0b897",
   "metadata": {},
   "outputs": [],
   "source": [
    "# spliting the data into train_test_split\n",
    "from sklearn.model_selection import train_test_split\n",
    "x_train,x_test,y_train,y_test = train_test_split(x,y,test_size = .25,random_state = 0)"
   ]
  },
  {
   "cell_type": "markdown",
   "id": "0763e95e",
   "metadata": {},
   "source": [
    "here we have splitted the data into training set and testing set"
   ]
  },
  {
   "cell_type": "markdown",
   "id": "3c494d88",
   "metadata": {},
   "source": [
    "## Because the target variable has catagories so we could use following models"
   ]
  },
  {
   "cell_type": "code",
   "execution_count": 19,
   "id": "3588bd9c",
   "metadata": {},
   "outputs": [],
   "source": [
    "from sklearn.linear_model import LinearRegression\n",
    "from sklearn.metrics import mean_squared_error, r2_score\n",
    "from sklearn.ensemble import RandomForestRegressor\n",
    "from sklearn.tree import DecisionTreeRegressor\n",
    "from sklearn.neighbors import KNeighborsRegressor"
   ]
  },
  {
   "cell_type": "markdown",
   "id": "44c52afd",
   "metadata": {},
   "source": [
    "here we have imported all the necessary machine learning algorithms"
   ]
  },
  {
   "cell_type": "code",
   "execution_count": 17,
   "id": "da553548",
   "metadata": {},
   "outputs": [
    {
     "name": "stdout",
     "output_type": "stream",
     "text": [
      "training score:  LinearRegression() is 0.9123680316487099\n",
      "testing score:  LinearRegression() is 0.8822812976446223\n",
      "Mean squared error:  LinearRegression() is 605580228.2532754\n",
      "Coefficient of determination:  LinearRegression() is 0.8822812976446223\n",
      "\n",
      "\n",
      "training score:  RandomForestRegressor() is 0.9839511699888192\n",
      "testing score:  RandomForestRegressor() is 0.8662889963307151\n",
      "Mean squared error:  RandomForestRegressor() is 687849411.3668848\n",
      "Coefficient of determination:  RandomForestRegressor() is 0.8662889963307151\n",
      "\n",
      "\n",
      "training score:  DecisionTreeRegressor() is 1.0\n",
      "testing score:  DecisionTreeRegressor() is 0.7176970431884471\n",
      "Mean squared error:  DecisionTreeRegressor() is 1452250879.4432433\n",
      "Coefficient of determination:  DecisionTreeRegressor() is 0.7176970431884471\n",
      "\n",
      "\n",
      "training score:  KNeighborsRegressor() is 0.8925942713668586\n",
      "testing score:  KNeighborsRegressor() is 0.8089289130269556\n",
      "Mean squared error:  KNeighborsRegressor() is 982926842.9448647\n",
      "Coefficient of determination:  KNeighborsRegressor() is 0.8089289130269556\n",
      "\n",
      "\n"
     ]
    }
   ],
   "source": [
    "lr = LinearRegression()\n",
    "rfc = RandomForestRegressor()\n",
    "dt = DecisionTreeRegressor()\n",
    "knn = KNeighborsRegressor()\n",
    "\n",
    "\n",
    "model = [lr,rfc,dt,knn]\n",
    "\n",
    "for i in model:\n",
    "    i.fit(x_train,y_train)\n",
    "    pred = i.predict(x_test)\n",
    "    print('training score: ',i,'is',i.score(x_train,y_train))\n",
    "    print('testing score: ',i,'is',i.score(x_test,y_test))\n",
    "    \n",
    "    # The mean squared error\n",
    "    print(\"Mean squared error: \",i,'is',mean_squared_error(y_test,pred))\n",
    "    # The coefficient of determination: 1 is perfect prediction\n",
    "    print(\"Coefficient of determination: \",i,'is', r2_score(y_test,pred))\n",
    "    # report performance\n",
    "    \n",
    "    \n",
    "    print('\\n')"
   ]
  },
  {
   "cell_type": "markdown",
   "id": "f79195c2",
   "metadata": {},
   "source": [
    "Looks like LinearRegression model is working good so we move ahead with LinearRegression"
   ]
  },
  {
   "cell_type": "code",
   "execution_count": 27,
   "id": "096444e4",
   "metadata": {},
   "outputs": [
    {
     "name": "stdout",
     "output_type": "stream",
     "text": [
      "Training score 0.9121761476625734\n",
      "Testing score 0.8796262953042339\n"
     ]
    }
   ],
   "source": [
    "lr = LinearRegression()\n",
    "lr.fit(x_train,y_train)\n",
    "print('Training score',lr.score(x_train,y_train))\n",
    "print('Testing score',lr.score(x_test,y_test))"
   ]
  },
  {
   "cell_type": "markdown",
   "id": "d2c66ed8",
   "metadata": {},
   "source": [
    "here we have took the linear regression for prediction."
   ]
  },
  {
   "cell_type": "code",
   "execution_count": 27,
   "id": "0b4ebd48",
   "metadata": {},
   "outputs": [
    {
     "data": {
      "text/plain": [
       "array([[122614.41213768],\n",
       "       [247990.41213768],\n",
       "       [120454.41213768],\n",
       "       [ 99318.41213768],\n",
       "       [233430.41213768],\n",
       "       [119593.97463768],\n",
       "       [121318.41213768],\n",
       "       [122134.41213768],\n",
       "       [183114.41213768],\n",
       "       [ 61846.41213768],\n",
       "       [230750.41213768],\n",
       "       [131778.41213768],\n",
       "       [156582.41213768],\n",
       "       [146426.41213768],\n",
       "       [159768.41213768],\n",
       "       [189113.41213768],\n",
       "       [166134.41213768],\n",
       "       [368548.41213768],\n",
       "       [193238.41213768],\n",
       "       [227974.41213768],\n",
       "       [159806.41213768],\n",
       "       [182814.41213768],\n",
       "       [170398.41213768],\n",
       "       [144558.41213768],\n",
       "       [199458.41213768],\n",
       "       [444886.41213768],\n",
       "       [190624.41213768],\n",
       "       [265990.41213768],\n",
       "       [158838.41213768],\n",
       "       [344958.41213768],\n",
       "       [107646.41213768],\n",
       "       [188582.41213768],\n",
       "       [ 94310.41213768],\n",
       "       [ 72750.41213768],\n",
       "       [170294.41213768],\n",
       "       [165090.41213768],\n",
       "       [106646.41213768],\n",
       "       [110102.41213768],\n",
       "       [165430.41213768],\n",
       "       [258934.41213768],\n",
       "       [180534.41213768],\n",
       "       [243142.41213768],\n",
       "       [193046.41213768],\n",
       "       [ 79067.41213768],\n",
       "       [277718.41213768],\n",
       "       [147766.41213768],\n",
       "       [160422.41213768],\n",
       "       [294214.41213768],\n",
       "       [194278.41213768],\n",
       "       [245398.41213768],\n",
       "       [189974.41213768],\n",
       "       [158223.41213768],\n",
       "       [120742.41213768],\n",
       "       [191569.66213768],\n",
       "       [136886.41213768],\n",
       "       [290856.41213768],\n",
       "       [100478.41213768],\n",
       "       [145720.41213768],\n",
       "       [297990.41213768],\n",
       "       [200934.41213768],\n",
       "       [130614.41213768],\n",
       "       [230678.41213768],\n",
       "       [118118.41213768],\n",
       "       [199538.41213768],\n",
       "       [134518.41213768],\n",
       "       [203630.41213768],\n",
       "       [124582.41213768],\n",
       "       [117534.41213768],\n",
       "       [218350.41213768],\n",
       "       [129734.41213768],\n",
       "       [300454.41213768],\n",
       "       [199054.41213768],\n",
       "       [298166.41213768],\n",
       "       [170934.41213768],\n",
       "       [147230.41213768],\n",
       "       [105430.41213768],\n",
       "       [163110.41213768],\n",
       "       [251014.41213768],\n",
       "       [118830.41213768],\n",
       "       [208550.41213768],\n",
       "       [260910.41213768],\n",
       "       [114538.41213768],\n",
       "       [165190.41213768],\n",
       "       [209342.41213768],\n",
       "       [171126.41213768],\n",
       "       [123614.41213768],\n",
       "       [392214.41213768],\n",
       "       [191966.41213768],\n",
       "       [349974.41213768],\n",
       "       [206862.41213768],\n",
       "       [216090.41213768],\n",
       "       [180038.41213768],\n",
       "       [247366.41213768],\n",
       "       [116596.77151268],\n",
       "       [166206.41213768],\n",
       "       [130406.41213768],\n",
       "       [142414.41213768],\n",
       "       [208758.41213768],\n",
       "       [379638.41213768],\n",
       "       [339494.41213768],\n",
       "       [347318.41213768],\n",
       "       [106834.41213768],\n",
       "       [203366.41213768],\n",
       "       [337370.41213768],\n",
       "       [338614.41213768],\n",
       "       [194102.41213768],\n",
       "       [131186.41213768],\n",
       "       [ 45910.41213768],\n",
       "       [234742.41213768],\n",
       "       [195686.41213768],\n",
       "       [154166.41213768],\n",
       "       [ 91142.41213768],\n",
       "       [265454.41213768],\n",
       "       [212886.41213768],\n",
       "       [170614.41213768],\n",
       "       [300918.41213768],\n",
       "       [263044.41213768],\n",
       "       [131846.41213768],\n",
       "       [156306.41213768],\n",
       "       [142254.41213768],\n",
       "       [ 98662.41213768],\n",
       "       [153156.41213768],\n",
       "       [242438.41213768],\n",
       "       [237366.41213768],\n",
       "       [138854.41213768],\n",
       "       [258102.41213768],\n",
       "       [301702.41213768],\n",
       "       [199030.41213768],\n",
       "       [122006.41213768],\n",
       "       [165006.41213768],\n",
       "       [ 92726.41213768],\n",
       "       [108062.41213768],\n",
       "       [ 77326.41213768],\n",
       "       [209222.41213768],\n",
       "       [162542.41213768],\n",
       "       [317910.41213768],\n",
       "       [160734.41213768],\n",
       "       [200022.41213768],\n",
       "       [201714.41213768],\n",
       "       [196918.41213768],\n",
       "       [135814.41213768],\n",
       "       [236214.41213768],\n",
       "       [159286.41213768],\n",
       "       [ 74918.41213768],\n",
       "       [137400.41213768],\n",
       "       [149430.41213768],\n",
       "       [211334.41213768],\n",
       "       [148086.41213768],\n",
       "       [152413.41213768],\n",
       "       [138902.41213768],\n",
       "       [219422.41213768],\n",
       "       [236598.41213768],\n",
       "       [129314.41213768],\n",
       "       [196982.41213768],\n",
       "       [165594.41213768],\n",
       "       [118294.41213768],\n",
       "       [255934.41213768],\n",
       "       [210583.41213768],\n",
       "       [241910.41213768],\n",
       "       [143062.41213768],\n",
       "       [225886.41213768],\n",
       "       [298702.41213768],\n",
       "       [126022.41213768],\n",
       "       [230630.41213768],\n",
       "       [307298.41213768],\n",
       "       [153548.41213768],\n",
       "       [206558.41213768],\n",
       "       [178234.41213768],\n",
       "       [150398.41213768],\n",
       "       [106086.41213768],\n",
       "       [134502.41213768],\n",
       "       [184838.41213768],\n",
       "       [160998.41213768],\n",
       "       [235398.41213768],\n",
       "       [155878.41213768],\n",
       "       [250462.41213768],\n",
       "       [172670.41213768],\n",
       "       [ 33486.41213768],\n",
       "       [147022.41213768],\n",
       "       [136286.41213768],\n",
       "       [199910.41213768],\n",
       "       [151542.41213768],\n",
       "       [ 74067.41213768],\n",
       "       [234050.41213768],\n",
       "       [152690.41213768]])"
      ]
     },
     "execution_count": 27,
     "metadata": {},
     "output_type": "execute_result"
    }
   ],
   "source": [
    "pred = lr.predict(x_test)\n",
    "pred"
   ]
  },
  {
   "cell_type": "markdown",
   "id": "fc116db6",
   "metadata": {},
   "source": [
    "here we have checked the prediction according to train data"
   ]
  },
  {
   "cell_type": "code",
   "execution_count": 36,
   "id": "af764b66",
   "metadata": {},
   "outputs": [
    {
     "data": {
      "text/plain": [
       "array([[-1.16042893e+19],\n",
       "       [-6.68082352e+18],\n",
       "       [-1.37929697e+19],\n",
       "       [-4.76454944e+18],\n",
       "       [-7.03417849e+18],\n",
       "       [ 2.60756265e+19],\n",
       "       [-2.76302221e+18],\n",
       "       [-9.51086513e+18],\n",
       "       [-7.66776547e+18],\n",
       "       [-7.03381874e+18],\n",
       "       [-4.09146846e+18],\n",
       "       [ 1.62083056e+19],\n",
       "       [-7.77379010e+18],\n",
       "       [-9.10394445e+18],\n",
       "       [-1.52249836e+19],\n",
       "       [ 1.79275774e+19],\n",
       "       [-4.79360545e+18],\n",
       "       [ 5.35160328e+18],\n",
       "       [-4.16929128e+18],\n",
       "       [ 6.22519513e+18],\n",
       "       [-3.35654026e+18],\n",
       "       [-5.19301768e+18],\n",
       "       [-7.59420435e+18],\n",
       "       [ 7.41181008e+07],\n",
       "       [-4.96106400e+18],\n",
       "       [-5.03897809e+18],\n",
       "       [-7.49840280e+18],\n",
       "       [-8.45571947e+18],\n",
       "       [-4.43263189e+18],\n",
       "       [-7.92328605e+18],\n",
       "       [ 1.00871026e+08],\n",
       "       [-6.90646923e+18],\n",
       "       [-1.45672605e+19],\n",
       "       [-8.02288749e+18],\n",
       "       [-6.04278420e+18],\n",
       "       [-3.02139210e+18],\n",
       "       [-5.00867611e+18],\n",
       "       [-4.30624911e+18],\n",
       "       [-4.01824586e+18],\n",
       "       [-5.85123767e+18],\n",
       "       [ 4.45967470e+18],\n",
       "       [-8.78872466e+18],\n",
       "       [-6.66437268e+18],\n",
       "       [-8.45212102e+18],\n",
       "       [-6.00588153e+18],\n",
       "       [-5.75828003e+18],\n",
       "       [-7.14347143e+18],\n",
       "       [-5.35038185e+18],\n",
       "       [-7.79227645e+18],\n",
       "       [-9.88406526e+18],\n",
       "       [ 1.92132626e+19],\n",
       "       [-7.91527569e+18],\n",
       "       [-5.75952869e+18],\n",
       "       [-6.04278420e+18],\n",
       "       [-9.94541567e+18],\n",
       "       [-3.27319633e+18],\n",
       "       [-8.48192887e+18],\n",
       "       [-6.16080733e+18],\n",
       "       [ 3.76327745e+19],\n",
       "       [-1.27937072e+19],\n",
       "       [-2.33366775e+18],\n",
       "       [-5.06393344e+18],\n",
       "       [ 2.34468844e+19],\n",
       "       [-4.81585127e+18],\n",
       "       [-8.65680190e+18],\n",
       "       [ 1.32413120e+19],\n",
       "       [-6.94541550e+18],\n",
       "       [-8.90477931e+18],\n",
       "       [-5.05665874e+18],\n",
       "       [ 9.81890706e+18],\n",
       "       [-1.12703093e+19],\n",
       "       [ 1.56718120e+19],\n",
       "       [-6.55421776e+18],\n",
       "       [-7.44644850e+18],\n",
       "       [-6.41329096e+18],\n",
       "       [-6.64544068e+18],\n",
       "       [-9.20709583e+18],\n",
       "       [-9.81486249e+18],\n",
       "       [-8.90626981e+18],\n",
       "       [-6.37365990e+18],\n",
       "       [-5.56282348e+18],\n",
       "       [ 1.26276229e+19],\n",
       "       [-1.29455422e+19],\n",
       "       [-6.78807018e+18],\n",
       "       [-4.15441414e+18],\n",
       "       [-5.01012350e+18],\n",
       "       [-5.16154484e+18],\n",
       "       [-1.36974126e+19],\n",
       "       [-4.88072770e+18],\n",
       "       [-7.49840280e+18],\n",
       "       [-1.32894043e+19],\n",
       "       [ 1.56855107e+18],\n",
       "       [-5.49200960e+18],\n",
       "       [-7.22301549e+18],\n",
       "       [-6.23279206e+18],\n",
       "       [-7.04091087e+18],\n",
       "       [-1.04078086e+19],\n",
       "       [-3.02139210e+18],\n",
       "       [-8.29526715e+18],\n",
       "       [-5.78401954e+18],\n",
       "       [-1.01027798e+19],\n",
       "       [-4.72092515e+18],\n",
       "       [-7.33317041e+18],\n",
       "       [-3.02139210e+18],\n",
       "       [-7.82099935e+18],\n",
       "       [-5.33409772e+18],\n",
       "       [-7.47727156e+18],\n",
       "       [-1.24632424e+19],\n",
       "       [-7.36464325e+18],\n",
       "       [-6.35751255e+18],\n",
       "       [-8.04737025e+18],\n",
       "       [-5.85230645e+18],\n",
       "       [-5.64937377e+18],\n",
       "       [-9.65704459e+18],\n",
       "       [-6.31817150e+18],\n",
       "       [-4.24883264e+18],\n",
       "       [-6.25748433e+18],\n",
       "       [-5.33146600e+18],\n",
       "       [-5.77256905e+18],\n",
       "       [ 6.65087440e+07],\n",
       "       [-3.50622687e+18],\n",
       "       [-1.07637094e+19],\n",
       "       [-6.14229434e+18],\n",
       "       [-7.04991491e+18],\n",
       "       [-5.54982623e+18],\n",
       "       [-6.60095442e+18],\n",
       "       [ 4.99401851e+17],\n",
       "       [ 5.36858798e+19],\n",
       "       [ 7.37029863e+07],\n",
       "       [-5.79100152e+18],\n",
       "       [ 3.32441049e+19],\n",
       "       [-5.97966405e+18],\n",
       "       [-5.81667400e+18],\n",
       "       [-4.05359907e+18],\n",
       "       [ 2.83469574e+19],\n",
       "       [-1.15191891e+19],\n",
       "       [-8.87584691e+18],\n",
       "       [-2.07720707e+18],\n",
       "       [-1.24317696e+19],\n",
       "       [-4.76348872e+18],\n",
       "       [-1.93967190e+18],\n",
       "       [-8.99370094e+18],\n",
       "       [ 7.10428678e+07],\n",
       "       [-1.10941741e+19],\n",
       "       [-8.07913849e+18],\n",
       "       [-5.67406874e+18],\n",
       "       [-7.49053458e+18],\n",
       "       [ 7.18868870e+17],\n",
       "       [ 7.95759548e+07],\n",
       "       [-6.60929522e+18],\n",
       "       [-4.81534366e+18],\n",
       "       [-6.46477537e+18],\n",
       "       [-3.90265302e+18],\n",
       "       [-5.84385552e+18],\n",
       "       [-5.49200960e+18],\n",
       "       [-4.06069390e+18],\n",
       "       [-1.17312252e+19],\n",
       "       [ 1.66737930e+19],\n",
       "       [-5.73235256e+18],\n",
       "       [-4.76523423e+18],\n",
       "       [-1.11885926e+19],\n",
       "       [-5.58470685e+18],\n",
       "       [-8.25670488e+18],\n",
       "       [-5.41217822e+18],\n",
       "       [-7.08925595e+18],\n",
       "       [-8.44952702e+18],\n",
       "       [-5.05404049e+18],\n",
       "       [-5.86968362e+18],\n",
       "       [-5.36478370e+18],\n",
       "       [-6.04278420e+18],\n",
       "       [-5.81570727e+18],\n",
       "       [ 1.02740781e+19],\n",
       "       [ 2.29112955e+19],\n",
       "       [-1.17865765e+19],\n",
       "       [-5.55148583e+18],\n",
       "       [-9.50677255e+18],\n",
       "       [-5.52348243e+18],\n",
       "       [-4.47644682e+18],\n",
       "       [-6.93568895e+18],\n",
       "       [-4.20106491e+18],\n",
       "       [-6.76665940e+18],\n",
       "       [-6.22290989e+18],\n",
       "       [-1.28881257e+19],\n",
       "       [-3.77481745e+18],\n",
       "       [ 1.37563770e+19],\n",
       "       [-1.08702150e+19],\n",
       "       [-5.31824038e+18],\n",
       "       [-4.96066653e+18],\n",
       "       [-5.52348244e+18],\n",
       "       [-4.35637740e+18],\n",
       "       [-4.39445361e+18],\n",
       "       [-1.28251800e+19],\n",
       "       [-9.28975766e+18],\n",
       "       [-3.17410520e+18],\n",
       "       [-7.64789876e+18],\n",
       "       [-6.68263605e+18],\n",
       "       [-7.14329425e+18],\n",
       "       [-7.40711554e+18],\n",
       "       [-5.07414066e+18],\n",
       "       [-8.41103448e+18],\n",
       "       [-4.70880604e+18],\n",
       "       [-3.80034475e+18],\n",
       "       [-5.85184195e+18],\n",
       "       [-9.87279734e+18],\n",
       "       [-5.63075334e+18],\n",
       "       [-5.63190264e+18],\n",
       "       [-8.07278202e+18],\n",
       "       [-9.29013896e+18],\n",
       "       [-6.11359807e+18],\n",
       "       [-7.63216234e+18],\n",
       "       [-4.47080478e+18],\n",
       "       [-6.41259000e+18],\n",
       "       [ 4.92230324e+18],\n",
       "       [-1.06142134e+19],\n",
       "       [-6.79813223e+18],\n",
       "       [-4.65225694e+18],\n",
       "       [-4.80740033e+18],\n",
       "       [-1.09555621e+19],\n",
       "       [-6.13314245e+18],\n",
       "       [-9.55301776e+18],\n",
       "       [-5.40615757e+18],\n",
       "       [-9.81090160e+18],\n",
       "       [-1.27622343e+19],\n",
       "       [-6.39512156e+18],\n",
       "       [-5.84415092e+18],\n",
       "       [-9.68562262e+18],\n",
       "       [-9.70936941e+18],\n",
       "       [-5.49200959e+18],\n",
       "       [-1.09123730e+19],\n",
       "       [-5.90115645e+18],\n",
       "       [-3.83153296e+18],\n",
       "       [-6.57803459e+18],\n",
       "       [-5.43693213e+18],\n",
       "       [-6.12566901e+18],\n",
       "       [-4.90976217e+18],\n",
       "       [ 3.25814761e+19],\n",
       "       [-6.35751255e+18],\n",
       "       [ 2.56262209e+19],\n",
       "       [-1.36018368e+19],\n",
       "       [-5.26306086e+18],\n",
       "       [-9.89006974e+18],\n",
       "       [-4.92494818e+18],\n",
       "       [-5.18719576e+18],\n",
       "       [-4.30712724e+18],\n",
       "       [-7.04740949e+18],\n",
       "       [-7.13795570e+18],\n",
       "       [-7.33320544e+18],\n",
       "       [-6.80214700e+18],\n",
       "       [-4.19375518e+18],\n",
       "       [-6.60929521e+18],\n",
       "       [-1.04905833e+19],\n",
       "       [-7.17202523e+18],\n",
       "       [-6.77452760e+18],\n",
       "       [ 2.12275534e+19],\n",
       "       [-4.95697142e+18],\n",
       "       [-4.98895725e+18],\n",
       "       [-6.23948941e+18],\n",
       "       [-1.05488940e+19],\n",
       "       [-8.58977981e+18],\n",
       "       [ 3.05767805e+19],\n",
       "       [-5.75952869e+18],\n",
       "       [-4.25740450e+18],\n",
       "       [-1.49495963e+18],\n",
       "       [-7.99828918e+18],\n",
       "       [-1.29746760e+19],\n",
       "       [-4.72016255e+18],\n",
       "       [-5.04352171e+18],\n",
       "       [-1.07165001e+19],\n",
       "       [-7.59197818e+18],\n",
       "       [-7.79672609e+18],\n",
       "       [ 1.18512882e+08],\n",
       "       [ 2.25497732e+19],\n",
       "       [-1.00744544e+19],\n",
       "       [ 3.70762696e+19],\n",
       "       [-9.05295149e+18],\n",
       "       [-8.63388476e+18],\n",
       "       [-9.73297404e+18],\n",
       "       [-7.82099935e+18],\n",
       "       [-1.05455371e+19],\n",
       "       [-7.67805589e+18],\n",
       "       [ 2.35800632e+19],\n",
       "       [-1.07374221e+19],\n",
       "       [-7.91194033e+18],\n",
       "       [-1.08152261e+19],\n",
       "       [-6.52345397e+18],\n",
       "       [-5.05704274e+18],\n",
       "       [-9.83187720e+18],\n",
       "       [-1.22050497e+19],\n",
       "       [-5.85707844e+18],\n",
       "       [-6.27146717e+18],\n",
       "       [-6.77570653e+18],\n",
       "       [-2.92989803e+18]])"
      ]
     },
     "execution_count": 36,
     "metadata": {},
     "output_type": "execute_result"
    }
   ],
   "source": [
    "pred2 = lr.predict(test)\n",
    "pred2"
   ]
  },
  {
   "cell_type": "markdown",
   "id": "3deb9a42",
   "metadata": {},
   "source": [
    "here we have predicted price according to test data"
   ]
  }
 ],
 "metadata": {
  "kernelspec": {
   "display_name": "Python 3",
   "language": "python",
   "name": "python3"
  },
  "language_info": {
   "codemirror_mode": {
    "name": "ipython",
    "version": 3
   },
   "file_extension": ".py",
   "mimetype": "text/x-python",
   "name": "python",
   "nbconvert_exporter": "python",
   "pygments_lexer": "ipython3",
   "version": "3.8.8"
  }
 },
 "nbformat": 4,
 "nbformat_minor": 5
}
